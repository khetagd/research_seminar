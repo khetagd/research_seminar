{
 "cells": [
  {
   "cell_type": "code",
   "execution_count": 241,
   "metadata": {},
   "outputs": [],
   "source": [
    "import pandas as pd\n",
    "import matplotlib.pyplot as plt\n",
    "import seaborn as sns"
   ]
  },
  {
   "cell_type": "code",
   "execution_count": 242,
   "metadata": {},
   "outputs": [],
   "source": [
    "indexes = pd.read_excel(\"C:/Users/user/Downloads/data_akbilgic.xlsx\")"
   ]
  },
  {
   "cell_type": "markdown",
   "metadata": {},
   "source": [
    "Начнем с того, что в таблице написаны не сами значения индексов, а их каждодневные относительные изменения, преобразуем значения в относительные относительно значения на момент 4 января 2009 года"
   ]
  },
  {
   "cell_type": "code",
   "execution_count": 243,
   "metadata": {},
   "outputs": [],
   "source": [
    "columns = list(indexes.iloc[0])\n",
    "columns[1] = 'ISE_turkish'"
   ]
  },
  {
   "cell_type": "markdown",
   "metadata": {},
   "source": [
    "Кроме того давайте удалим первый столбец ISE(он изверяется в лирах, у нас уже есть столбец который измеряется в долларах, предсказать курс лиры не наша цель)"
   ]
  },
  {
   "cell_type": "code",
   "execution_count": 244,
   "metadata": {},
   "outputs": [
    {
     "data": {
      "text/html": [
       "<div>\n",
       "<style scoped>\n",
       "    .dataframe tbody tr th:only-of-type {\n",
       "        vertical-align: middle;\n",
       "    }\n",
       "\n",
       "    .dataframe tbody tr th {\n",
       "        vertical-align: top;\n",
       "    }\n",
       "\n",
       "    .dataframe thead th {\n",
       "        text-align: right;\n",
       "    }\n",
       "</style>\n",
       "<table border=\"1\" class=\"dataframe\">\n",
       "  <thead>\n",
       "    <tr style=\"text-align: right;\">\n",
       "      <th></th>\n",
       "      <th>date</th>\n",
       "      <th>ISE</th>\n",
       "      <th>SP</th>\n",
       "      <th>DAX</th>\n",
       "      <th>FTSE</th>\n",
       "      <th>NIKKEI</th>\n",
       "      <th>BOVESPA</th>\n",
       "      <th>EU</th>\n",
       "      <th>EM</th>\n",
       "    </tr>\n",
       "  </thead>\n",
       "  <tbody>\n",
       "    <tr>\n",
       "      <th>0</th>\n",
       "      <td>2009-01-04</td>\n",
       "      <td>100</td>\n",
       "      <td>100</td>\n",
       "      <td>100</td>\n",
       "      <td>100</td>\n",
       "      <td>100</td>\n",
       "      <td>100</td>\n",
       "      <td>100</td>\n",
       "      <td>100</td>\n",
       "    </tr>\n",
       "    <tr>\n",
       "      <th>1</th>\n",
       "      <td>2009-01-05</td>\n",
       "      <td>0.038376</td>\n",
       "      <td>-0.004679</td>\n",
       "      <td>0.002193</td>\n",
       "      <td>0.003894</td>\n",
       "      <td>0</td>\n",
       "      <td>0.03119</td>\n",
       "      <td>0.012698</td>\n",
       "      <td>0.028524</td>\n",
       "    </tr>\n",
       "    <tr>\n",
       "      <th>2</th>\n",
       "      <td>2009-01-06</td>\n",
       "      <td>0.031813</td>\n",
       "      <td>0.007787</td>\n",
       "      <td>0.008455</td>\n",
       "      <td>0.012866</td>\n",
       "      <td>0.004162</td>\n",
       "      <td>0.01892</td>\n",
       "      <td>0.011341</td>\n",
       "      <td>0.008773</td>\n",
       "    </tr>\n",
       "    <tr>\n",
       "      <th>3</th>\n",
       "      <td>2009-01-07</td>\n",
       "      <td>-0.026353</td>\n",
       "      <td>-0.030469</td>\n",
       "      <td>-0.017833</td>\n",
       "      <td>-0.028735</td>\n",
       "      <td>0.017293</td>\n",
       "      <td>-0.035899</td>\n",
       "      <td>-0.017073</td>\n",
       "      <td>-0.020015</td>\n",
       "    </tr>\n",
       "    <tr>\n",
       "      <th>4</th>\n",
       "      <td>2009-01-08</td>\n",
       "      <td>-0.084716</td>\n",
       "      <td>0.003391</td>\n",
       "      <td>-0.011726</td>\n",
       "      <td>-0.000466</td>\n",
       "      <td>-0.040061</td>\n",
       "      <td>0.028283</td>\n",
       "      <td>-0.005561</td>\n",
       "      <td>-0.019424</td>\n",
       "    </tr>\n",
       "    <tr>\n",
       "      <th>...</th>\n",
       "      <td>...</td>\n",
       "      <td>...</td>\n",
       "      <td>...</td>\n",
       "      <td>...</td>\n",
       "      <td>...</td>\n",
       "      <td>...</td>\n",
       "      <td>...</td>\n",
       "      <td>...</td>\n",
       "      <td>...</td>\n",
       "    </tr>\n",
       "    <tr>\n",
       "      <th>532</th>\n",
       "      <td>2011-02-16</td>\n",
       "      <td>0.0134</td>\n",
       "      <td>0.006238</td>\n",
       "      <td>0.001925</td>\n",
       "      <td>0.007952</td>\n",
       "      <td>0.005717</td>\n",
       "      <td>0.018371</td>\n",
       "      <td>0.006975</td>\n",
       "      <td>0.003039</td>\n",
       "    </tr>\n",
       "    <tr>\n",
       "      <th>533</th>\n",
       "      <td>2011-02-17</td>\n",
       "      <td>0.015977</td>\n",
       "      <td>0.003071</td>\n",
       "      <td>-0.001186</td>\n",
       "      <td>0.000345</td>\n",
       "      <td>0.00262</td>\n",
       "      <td>0.001686</td>\n",
       "      <td>-0.000581</td>\n",
       "      <td>0.001039</td>\n",
       "    </tr>\n",
       "    <tr>\n",
       "      <th>534</th>\n",
       "      <td>2011-02-18</td>\n",
       "      <td>-0.001653</td>\n",
       "      <td>0.001923</td>\n",
       "      <td>0.002872</td>\n",
       "      <td>-0.000723</td>\n",
       "      <td>0.000568</td>\n",
       "      <td>0.005628</td>\n",
       "      <td>0.000572</td>\n",
       "      <td>0.006938</td>\n",
       "    </tr>\n",
       "    <tr>\n",
       "      <th>535</th>\n",
       "      <td>2011-02-21</td>\n",
       "      <td>-0.013706</td>\n",
       "      <td>-0.020742</td>\n",
       "      <td>-0.014239</td>\n",
       "      <td>-0.011275</td>\n",
       "      <td>0.001358</td>\n",
       "      <td>-0.011942</td>\n",
       "      <td>-0.012615</td>\n",
       "      <td>-0.000958</td>\n",
       "    </tr>\n",
       "    <tr>\n",
       "      <th>536</th>\n",
       "      <td>2011-02-22</td>\n",
       "      <td>-0.019442</td>\n",
       "      <td>0</td>\n",
       "      <td>-0.000473</td>\n",
       "      <td>-0.002997</td>\n",
       "      <td>-0.01792</td>\n",
       "      <td>-0.012252</td>\n",
       "      <td>-0.005465</td>\n",
       "      <td>-0.014297</td>\n",
       "    </tr>\n",
       "  </tbody>\n",
       "</table>\n",
       "<p>537 rows × 9 columns</p>\n",
       "</div>"
      ],
      "text/plain": [
       "          date       ISE        SP       DAX      FTSE    NIKKEI   BOVESPA  \\\n",
       "0   2009-01-04       100       100       100       100       100       100   \n",
       "1   2009-01-05  0.038376 -0.004679  0.002193  0.003894         0   0.03119   \n",
       "2   2009-01-06  0.031813  0.007787  0.008455  0.012866  0.004162   0.01892   \n",
       "3   2009-01-07 -0.026353 -0.030469 -0.017833 -0.028735  0.017293 -0.035899   \n",
       "4   2009-01-08 -0.084716  0.003391 -0.011726 -0.000466 -0.040061  0.028283   \n",
       "..         ...       ...       ...       ...       ...       ...       ...   \n",
       "532 2011-02-16    0.0134  0.006238  0.001925  0.007952  0.005717  0.018371   \n",
       "533 2011-02-17  0.015977  0.003071 -0.001186  0.000345   0.00262  0.001686   \n",
       "534 2011-02-18 -0.001653  0.001923  0.002872 -0.000723  0.000568  0.005628   \n",
       "535 2011-02-21 -0.013706 -0.020742 -0.014239 -0.011275  0.001358 -0.011942   \n",
       "536 2011-02-22 -0.019442         0 -0.000473 -0.002997  -0.01792 -0.012252   \n",
       "\n",
       "           EU        EM  \n",
       "0         100       100  \n",
       "1    0.012698  0.028524  \n",
       "2    0.011341  0.008773  \n",
       "3   -0.017073 -0.020015  \n",
       "4   -0.005561 -0.019424  \n",
       "..        ...       ...  \n",
       "532  0.006975  0.003039  \n",
       "533 -0.000581  0.001039  \n",
       "534  0.000572  0.006938  \n",
       "535 -0.012615 -0.000958  \n",
       "536 -0.005465 -0.014297  \n",
       "\n",
       "[537 rows x 9 columns]"
      ]
     },
     "execution_count": 244,
     "metadata": {},
     "output_type": "execute_result"
    }
   ],
   "source": [
    "from datetime import datetime as dt\n",
    "indexes.columns = columns\n",
    "indexes.iloc[0] = ['2009-01-04 00:00:00', '100','100','100','100', '100','100','100','100','100']\n",
    "indexes = indexes.drop(columns=[\"ISE_turkish\"])\n",
    "columns = indexes.columns\n",
    "indexes.date = indexes.date.apply(lambda x: dt.fromisoformat(str(x)))\n",
    "indexes"
   ]
  },
  {
   "cell_type": "code",
   "execution_count": 245,
   "metadata": {},
   "outputs": [],
   "source": [
    "def to_float(x):\n",
    "    try:\n",
    "        x = float(x)\n",
    "    except ValueError:\n",
    "        x = 0\n",
    "    except TypeError:\n",
    "        x = 0\n",
    "    return x\n",
    "for column in columns[1:]:\n",
    "    indexes[column] = indexes[column].apply(to_float)\n",
    "\n",
    "def weekdays(some_date):\n",
    "    if some_date.weekday() == 5 or some_date.weekday() == 6:\n",
    "        return None\n",
    "    return some_date"
   ]
  },
  {
   "cell_type": "markdown",
   "metadata": {},
   "source": [
    "Будем хранить в таблице относительные значения индексов относительно первого дня(в процентах)"
   ]
  },
  {
   "cell_type": "code",
   "execution_count": 246,
   "metadata": {},
   "outputs": [
    {
     "data": {
      "text/html": [
       "<div>\n",
       "<style scoped>\n",
       "    .dataframe tbody tr th:only-of-type {\n",
       "        vertical-align: middle;\n",
       "    }\n",
       "\n",
       "    .dataframe tbody tr th {\n",
       "        vertical-align: top;\n",
       "    }\n",
       "\n",
       "    .dataframe thead th {\n",
       "        text-align: right;\n",
       "    }\n",
       "</style>\n",
       "<table border=\"1\" class=\"dataframe\">\n",
       "  <thead>\n",
       "    <tr style=\"text-align: right;\">\n",
       "      <th></th>\n",
       "      <th>date</th>\n",
       "      <th>ISE</th>\n",
       "      <th>SP</th>\n",
       "      <th>DAX</th>\n",
       "      <th>FTSE</th>\n",
       "      <th>NIKKEI</th>\n",
       "      <th>BOVESPA</th>\n",
       "      <th>EU</th>\n",
       "      <th>EM</th>\n",
       "    </tr>\n",
       "  </thead>\n",
       "  <tbody>\n",
       "    <tr>\n",
       "      <th>0</th>\n",
       "      <td>2009-01-04</td>\n",
       "      <td>100.000000</td>\n",
       "      <td>100.000000</td>\n",
       "      <td>100.000000</td>\n",
       "      <td>100.000000</td>\n",
       "      <td>100.000000</td>\n",
       "      <td>100.000000</td>\n",
       "      <td>100.000000</td>\n",
       "      <td>100.000000</td>\n",
       "    </tr>\n",
       "    <tr>\n",
       "      <th>1</th>\n",
       "      <td>2009-01-05</td>\n",
       "      <td>103.837619</td>\n",
       "      <td>99.532069</td>\n",
       "      <td>100.219342</td>\n",
       "      <td>100.389438</td>\n",
       "      <td>100.000000</td>\n",
       "      <td>103.119023</td>\n",
       "      <td>101.269804</td>\n",
       "      <td>102.852446</td>\n",
       "    </tr>\n",
       "    <tr>\n",
       "      <th>2</th>\n",
       "      <td>2009-01-06</td>\n",
       "      <td>107.140978</td>\n",
       "      <td>100.307099</td>\n",
       "      <td>101.066731</td>\n",
       "      <td>101.681009</td>\n",
       "      <td>100.416245</td>\n",
       "      <td>105.069992</td>\n",
       "      <td>102.418270</td>\n",
       "      <td>103.754734</td>\n",
       "    </tr>\n",
       "    <tr>\n",
       "      <th>3</th>\n",
       "      <td>2009-01-07</td>\n",
       "      <td>104.317496</td>\n",
       "      <td>97.250828</td>\n",
       "      <td>99.264401</td>\n",
       "      <td>98.759247</td>\n",
       "      <td>102.152736</td>\n",
       "      <td>101.298128</td>\n",
       "      <td>100.669703</td>\n",
       "      <td>101.678040</td>\n",
       "    </tr>\n",
       "    <tr>\n",
       "      <th>4</th>\n",
       "      <td>2009-01-08</td>\n",
       "      <td>95.480145</td>\n",
       "      <td>97.580641</td>\n",
       "      <td>98.100399</td>\n",
       "      <td>98.713225</td>\n",
       "      <td>98.060364</td>\n",
       "      <td>104.163159</td>\n",
       "      <td>100.109883</td>\n",
       "      <td>99.703069</td>\n",
       "    </tr>\n",
       "    <tr>\n",
       "      <th>...</th>\n",
       "      <td>...</td>\n",
       "      <td>...</td>\n",
       "      <td>...</td>\n",
       "      <td>...</td>\n",
       "      <td>...</td>\n",
       "      <td>...</td>\n",
       "      <td>...</td>\n",
       "      <td>...</td>\n",
       "      <td>...</td>\n",
       "    </tr>\n",
       "    <tr>\n",
       "      <th>532</th>\n",
       "      <td>2011-02-16</td>\n",
       "      <td>207.788991</td>\n",
       "      <td>136.006634</td>\n",
       "      <td>140.867201</td>\n",
       "      <td>127.797982</td>\n",
       "      <td>112.691905</td>\n",
       "      <td>157.128192</td>\n",
       "      <td>125.260823</td>\n",
       "      <td>161.510207</td>\n",
       "    </tr>\n",
       "    <tr>\n",
       "      <th>533</th>\n",
       "      <td>2011-02-17</td>\n",
       "      <td>211.108878</td>\n",
       "      <td>136.424295</td>\n",
       "      <td>140.700097</td>\n",
       "      <td>127.842077</td>\n",
       "      <td>112.987107</td>\n",
       "      <td>157.393062</td>\n",
       "      <td>125.188107</td>\n",
       "      <td>161.677949</td>\n",
       "    </tr>\n",
       "    <tr>\n",
       "      <th>534</th>\n",
       "      <td>2011-02-18</td>\n",
       "      <td>210.759999</td>\n",
       "      <td>136.686626</td>\n",
       "      <td>141.104203</td>\n",
       "      <td>127.749638</td>\n",
       "      <td>113.051315</td>\n",
       "      <td>158.278858</td>\n",
       "      <td>125.259662</td>\n",
       "      <td>162.799651</td>\n",
       "    </tr>\n",
       "    <tr>\n",
       "      <th>535</th>\n",
       "      <td>2011-02-21</td>\n",
       "      <td>207.871325</td>\n",
       "      <td>133.851451</td>\n",
       "      <td>139.095040</td>\n",
       "      <td>126.309274</td>\n",
       "      <td>113.204792</td>\n",
       "      <td>156.388744</td>\n",
       "      <td>123.679470</td>\n",
       "      <td>162.643731</td>\n",
       "    </tr>\n",
       "    <tr>\n",
       "      <th>536</th>\n",
       "      <td>2011-02-22</td>\n",
       "      <td>203.829922</td>\n",
       "      <td>133.851451</td>\n",
       "      <td>139.029294</td>\n",
       "      <td>125.930712</td>\n",
       "      <td>111.176204</td>\n",
       "      <td>154.472738</td>\n",
       "      <td>123.003575</td>\n",
       "      <td>160.318425</td>\n",
       "    </tr>\n",
       "  </tbody>\n",
       "</table>\n",
       "<p>537 rows × 9 columns</p>\n",
       "</div>"
      ],
      "text/plain": [
       "          date         ISE          SP         DAX        FTSE      NIKKEI  \\\n",
       "0   2009-01-04  100.000000  100.000000  100.000000  100.000000  100.000000   \n",
       "1   2009-01-05  103.837619   99.532069  100.219342  100.389438  100.000000   \n",
       "2   2009-01-06  107.140978  100.307099  101.066731  101.681009  100.416245   \n",
       "3   2009-01-07  104.317496   97.250828   99.264401   98.759247  102.152736   \n",
       "4   2009-01-08   95.480145   97.580641   98.100399   98.713225   98.060364   \n",
       "..         ...         ...         ...         ...         ...         ...   \n",
       "532 2011-02-16  207.788991  136.006634  140.867201  127.797982  112.691905   \n",
       "533 2011-02-17  211.108878  136.424295  140.700097  127.842077  112.987107   \n",
       "534 2011-02-18  210.759999  136.686626  141.104203  127.749638  113.051315   \n",
       "535 2011-02-21  207.871325  133.851451  139.095040  126.309274  113.204792   \n",
       "536 2011-02-22  203.829922  133.851451  139.029294  125.930712  111.176204   \n",
       "\n",
       "        BOVESPA          EU          EM  \n",
       "0    100.000000  100.000000  100.000000  \n",
       "1    103.119023  101.269804  102.852446  \n",
       "2    105.069992  102.418270  103.754734  \n",
       "3    101.298128  100.669703  101.678040  \n",
       "4    104.163159  100.109883   99.703069  \n",
       "..          ...         ...         ...  \n",
       "532  157.128192  125.260823  161.510207  \n",
       "533  157.393062  125.188107  161.677949  \n",
       "534  158.278858  125.259662  162.799651  \n",
       "535  156.388744  123.679470  162.643731  \n",
       "536  154.472738  123.003575  160.318425  \n",
       "\n",
       "[537 rows x 9 columns]"
      ]
     },
     "execution_count": 246,
     "metadata": {},
     "output_type": "execute_result"
    }
   ],
   "source": [
    "import warnings\n",
    "warnings.filterwarnings('ignore')\n",
    "for i in range(1, len(indexes)):\n",
    "    for column in columns[1:]:\n",
    "        indexes[column].iloc[i] = indexes[column].iloc[i - 1]*(indexes[column].iloc[i] + 1)\n",
    "indexes"
   ]
  },
  {
   "cell_type": "markdown",
   "metadata": {},
   "source": [
    "Часть EDA уже выполнил мой коллега. Давайте сразу посмотрим насколько точно библиотека prophet предскажет индексы в последние 60 дней, для обучения модели возьмем все дни кроме последних 60"
   ]
  },
  {
   "cell_type": "markdown",
   "metadata": {},
   "source": [
    "Библиотека prophet от Meta(запрещенная в РФ организация)"
   ]
  },
  {
   "cell_type": "code",
   "execution_count": 247,
   "metadata": {},
   "outputs": [],
   "source": [
    "import prophet\n",
    "predictor = prophet.Prophet()"
   ]
  },
  {
   "cell_type": "code",
   "execution_count": 248,
   "metadata": {},
   "outputs": [
    {
     "name": "stderr",
     "output_type": "stream",
     "text": [
      "15:18:44 - cmdstanpy - INFO - Chain [1] start processing\n"
     ]
    },
    {
     "name": "stderr",
     "output_type": "stream",
     "text": [
      "15:18:45 - cmdstanpy - INFO - Chain [1] done processing\n"
     ]
    },
    {
     "data": {
      "text/plain": [
       "<prophet.forecaster.Prophet at 0x2146bb0e3b0>"
      ]
     },
     "execution_count": 248,
     "metadata": {},
     "output_type": "execute_result"
    }
   ],
   "source": [
    "days = 120\n",
    "predict_days = 181\n",
    "predictor.fit(df = indexes[['date', 'ISE']][:-days].rename(columns ={'date':'ds','ISE':'y'}))"
   ]
  },
  {
   "cell_type": "code",
   "execution_count": 249,
   "metadata": {},
   "outputs": [],
   "source": [
    "future = predictor.make_future_dataframe(periods=predict_days)\n",
    "forecast = predictor.predict(future)"
   ]
  },
  {
   "cell_type": "code",
   "execution_count": 250,
   "metadata": {},
   "outputs": [],
   "source": [
    "forecast = forecast.rename(columns = {'ds':'date'})"
   ]
  },
  {
   "cell_type": "code",
   "execution_count": 251,
   "metadata": {},
   "outputs": [
    {
     "data": {
      "text/plain": [
       "date       datetime64[ns]\n",
       "ISE               float64\n",
       "SP                float64\n",
       "DAX               float64\n",
       "FTSE              float64\n",
       "NIKKEI            float64\n",
       "BOVESPA           float64\n",
       "EU                float64\n",
       "EM                float64\n",
       "dtype: object"
      ]
     },
     "execution_count": 251,
     "metadata": {},
     "output_type": "execute_result"
    }
   ],
   "source": [
    "indexes.dtypes"
   ]
  },
  {
   "cell_type": "code",
   "execution_count": 258,
   "metadata": {},
   "outputs": [],
   "source": [
    "total = pd.merge(forecast, indexes, on = 'date', how = 'inner').dropna()\n",
    "forecast = total[['date', 'yhat']]\n",
    "forecast = forecast.rename(columns = {'date':'ds'})"
   ]
  },
  {
   "cell_type": "markdown",
   "metadata": {},
   "source": [
    "Посчитаем относительную абсолютную ошибку"
   ]
  },
  {
   "cell_type": "code",
   "execution_count": 259,
   "metadata": {},
   "outputs": [
    {
     "data": {
      "text/plain": [
       "10.097806422060614"
      ]
     },
     "execution_count": 259,
     "metadata": {},
     "output_type": "execute_result"
    }
   ],
   "source": [
    "import numpy as np\n",
    "# forecast[-days:]\n",
    "100*np.mean(abs(indexes[\"ISE\"][-days:] - forecast['yhat'][-days:])/indexes[\"ISE\"][-days:])"
   ]
  },
  {
   "cell_type": "markdown",
   "metadata": {},
   "source": [
    "Мы достаточно точно предсказали цену акции, но на самом это не говорит нам о многом, давайте посчитаем как часто мы угадываем вырастет акция в этот день или нет"
   ]
  },
  {
   "cell_type": "code",
   "execution_count": 261,
   "metadata": {},
   "outputs": [
    {
     "data": {
      "text/plain": [
       "52.5"
      ]
     },
     "execution_count": 261,
     "metadata": {},
     "output_type": "execute_result"
    }
   ],
   "source": [
    "predict_dynamic = (forecast[-days:].reset_index().yhat - forecast[-days - 1:].reset_index().yhat).drop(index = days)\n",
    "dynamic = (indexes[-days:].reset_index()['ISE'] - indexes[-days - 1:].reset_index()['ISE']).drop(index = days)\n",
    "100*np.mean((((dynamic > 0) & (predict_dynamic > 0)) | ((dynamic < 0) & (predict_dynamic < 0))).apply(lambda x: int(x)))"
   ]
  },
  {
   "cell_type": "markdown",
   "metadata": {},
   "source": [
    "Не очень точное предсказание, давайте попробуем сгрупировать по неделям"
   ]
  },
  {
   "cell_type": "code",
   "execution_count": 265,
   "metadata": {},
   "outputs": [
    {
     "data": {
      "text/plain": [
       "58.333333333333336"
      ]
     },
     "execution_count": 265,
     "metadata": {},
     "output_type": "execute_result"
    }
   ],
   "source": [
    "predict_dynamic = (forecast[-days::5].reset_index().yhat - forecast[-days - 5::5].reset_index().yhat).drop(index=24)\n",
    "dynamic = (indexes[-days::5].reset_index()['ISE'] - indexes[-days - 5::5].reset_index()['ISE']).drop(index=24)\n",
    "100*np.mean((((dynamic > 0) & (predict_dynamic > 0)) | ((dynamic < 0) & (predict_dynamic < 0))).apply(lambda x: int(x)))"
   ]
  },
  {
   "cell_type": "markdown",
   "metadata": {},
   "source": [
    "Давайте посчитаем и для других колонок"
   ]
  },
  {
   "cell_type": "code",
   "execution_count": 268,
   "metadata": {},
   "outputs": [
    {
     "name": "stderr",
     "output_type": "stream",
     "text": [
      "15:25:58 - cmdstanpy - INFO - Chain [1] start processing\n",
      "15:25:58 - cmdstanpy - INFO - Chain [1] done processing\n",
      "15:25:58 - cmdstanpy - INFO - Chain [1] start processing\n"
     ]
    },
    {
     "name": "stdout",
     "output_type": "stream",
     "text": [
      "SP\n",
      "46.666666666666664\n"
     ]
    },
    {
     "name": "stderr",
     "output_type": "stream",
     "text": [
      "15:25:59 - cmdstanpy - INFO - Chain [1] done processing\n",
      "15:25:59 - cmdstanpy - INFO - Chain [1] start processing\n"
     ]
    },
    {
     "name": "stdout",
     "output_type": "stream",
     "text": [
      "DAX\n",
      "48.333333333333336\n"
     ]
    },
    {
     "name": "stderr",
     "output_type": "stream",
     "text": [
      "15:25:59 - cmdstanpy - INFO - Chain [1] done processing\n",
      "15:26:00 - cmdstanpy - INFO - Chain [1] start processing\n"
     ]
    },
    {
     "name": "stdout",
     "output_type": "stream",
     "text": [
      "FTSE\n",
      "55.00000000000001\n"
     ]
    },
    {
     "name": "stderr",
     "output_type": "stream",
     "text": [
      "15:26:00 - cmdstanpy - INFO - Chain [1] done processing\n"
     ]
    },
    {
     "name": "stdout",
     "output_type": "stream",
     "text": [
      "NIKKEI\n",
      "50.0\n"
     ]
    },
    {
     "name": "stderr",
     "output_type": "stream",
     "text": [
      "15:26:00 - cmdstanpy - INFO - Chain [1] start processing\n",
      "15:26:00 - cmdstanpy - INFO - Chain [1] done processing\n",
      "15:26:01 - cmdstanpy - INFO - Chain [1] start processing\n"
     ]
    },
    {
     "name": "stdout",
     "output_type": "stream",
     "text": [
      "BOVESPA\n",
      "57.49999999999999\n"
     ]
    },
    {
     "name": "stderr",
     "output_type": "stream",
     "text": [
      "15:26:01 - cmdstanpy - INFO - Chain [1] done processing\n",
      "15:26:01 - cmdstanpy - INFO - Chain [1] start processing\n"
     ]
    },
    {
     "name": "stdout",
     "output_type": "stream",
     "text": [
      "EU\n",
      "52.5\n"
     ]
    },
    {
     "name": "stderr",
     "output_type": "stream",
     "text": [
      "15:26:01 - cmdstanpy - INFO - Chain [1] done processing\n"
     ]
    },
    {
     "name": "stdout",
     "output_type": "stream",
     "text": [
      "EM\n",
      "52.5\n",
      "            ds        yhat\n",
      "0   2009-01-04  100.125539\n",
      "1   2009-01-05   94.313044\n",
      "2   2009-01-06   94.055222\n",
      "3   2009-01-07   94.348654\n",
      "4   2009-01-08   94.351458\n",
      "..         ...         ...\n",
      "532 2011-02-16  145.511805\n",
      "533 2011-02-17  145.497581\n",
      "534 2011-02-18  145.353214\n",
      "535 2011-02-21  145.457506\n",
      "536 2011-02-22  145.182656\n",
      "\n",
      "[537 rows x 2 columns]\n"
     ]
    }
   ],
   "source": [
    "for column in indexes.columns[2:]:\n",
    "    predictor = prophet.Prophet()\n",
    "    days = 120\n",
    "    predict_days = 181\n",
    "    predictor.fit(df = indexes.reset_index()[['date', column]][:-days].rename(columns ={'date':'ds',column:'y'}))\n",
    "    future = predictor.make_future_dataframe(periods=predict_days)\n",
    "    forecast = predictor.predict(future)\n",
    "    forecast = forecast.rename(columns = {'ds':'date'})\n",
    "    total = pd.merge(forecast, indexes, on = 'date', how = 'inner').dropna()\n",
    "    forecast = total[['date', 'yhat']]\n",
    "    forecast = forecast.rename(columns = {'date':'ds'})\n",
    "    indexes = indexes.reset_index().drop(columns=['index'])\n",
    "    last_60_dynamic = (indexes[-days:].reset_index() - indexes[-days - 1:].reset_index()).drop(index = days)[column]\n",
    "    last_60_dynamic_predict = (forecast.yhat[-days:].reset_index()-forecast.yhat[-days - 1:].reset_index()).drop(index = days)['yhat']\n",
    "    print(column)\n",
    "    print(100*np.mean((((last_60_dynamic_predict >= 0) & (last_60_dynamic >= 0)) | ((last_60_dynamic_predict <= 0) & (last_60_dynamic <= 0))).apply(lambda x: int(x))))"
   ]
  },
  {
   "cell_type": "markdown",
   "metadata": {},
   "source": [
    "Безобразие...Давайте снова попробуем агрегировать по неделям"
   ]
  },
  {
   "cell_type": "code",
   "execution_count": 270,
   "metadata": {},
   "outputs": [
    {
     "name": "stderr",
     "output_type": "stream",
     "text": [
      "15:27:08 - cmdstanpy - INFO - Chain [1] start processing\n",
      "15:27:08 - cmdstanpy - INFO - Chain [1] done processing\n",
      "15:27:08 - cmdstanpy - INFO - Chain [1] start processing\n"
     ]
    },
    {
     "name": "stdout",
     "output_type": "stream",
     "text": [
      "SP\n",
      "20.0\n"
     ]
    },
    {
     "name": "stderr",
     "output_type": "stream",
     "text": [
      "15:27:08 - cmdstanpy - INFO - Chain [1] done processing\n",
      "15:27:09 - cmdstanpy - INFO - Chain [1] start processing\n"
     ]
    },
    {
     "name": "stdout",
     "output_type": "stream",
     "text": [
      "DAX\n",
      "64.0\n"
     ]
    },
    {
     "name": "stderr",
     "output_type": "stream",
     "text": [
      "15:27:09 - cmdstanpy - INFO - Chain [1] done processing\n",
      "15:27:10 - cmdstanpy - INFO - Chain [1] start processing\n"
     ]
    },
    {
     "name": "stdout",
     "output_type": "stream",
     "text": [
      "FTSE\n",
      "24.0\n"
     ]
    },
    {
     "name": "stderr",
     "output_type": "stream",
     "text": [
      "15:27:10 - cmdstanpy - INFO - Chain [1] done processing\n",
      "15:27:10 - cmdstanpy - INFO - Chain [1] start processing\n"
     ]
    },
    {
     "name": "stdout",
     "output_type": "stream",
     "text": [
      "NIKKEI\n",
      "32.0\n"
     ]
    },
    {
     "name": "stderr",
     "output_type": "stream",
     "text": [
      "15:27:10 - cmdstanpy - INFO - Chain [1] done processing\n",
      "15:27:11 - cmdstanpy - INFO - Chain [1] start processing\n"
     ]
    },
    {
     "name": "stdout",
     "output_type": "stream",
     "text": [
      "BOVESPA\n",
      "44.0\n"
     ]
    },
    {
     "name": "stderr",
     "output_type": "stream",
     "text": [
      "15:27:11 - cmdstanpy - INFO - Chain [1] done processing\n",
      "15:27:11 - cmdstanpy - INFO - Chain [1] start processing\n"
     ]
    },
    {
     "name": "stdout",
     "output_type": "stream",
     "text": [
      "EU\n",
      "32.0\n"
     ]
    },
    {
     "name": "stderr",
     "output_type": "stream",
     "text": [
      "15:27:11 - cmdstanpy - INFO - Chain [1] done processing\n"
     ]
    },
    {
     "name": "stdout",
     "output_type": "stream",
     "text": [
      "EM\n",
      "36.0\n"
     ]
    }
   ],
   "source": [
    "for column in indexes.columns[2:]:\n",
    "    predictor = prophet.Prophet()\n",
    "    days = 120\n",
    "    predict_days = 181\n",
    "    predictor.fit(df = indexes.reset_index()[['date', column]][:-days].rename(columns ={'date':'ds',column:'y'}))\n",
    "    future = predictor.make_future_dataframe(periods=predict_days)\n",
    "    forecast = predictor.predict(future)\n",
    "    forecast = forecast.rename(columns = {'ds':'date'})\n",
    "    total = pd.merge(forecast, indexes, on = 'date', how = 'inner').dropna()\n",
    "    forecast = total[['date', 'yhat']]\n",
    "    forecast = forecast.rename(columns = {'date':'ds'})\n",
    "    indexes = indexes.reset_index().drop(columns=['index'])\n",
    "    last_60_dynamic = (indexes[-days::5].reset_index() - indexes[-days - 5::5].reset_index())[column]\n",
    "    last_60_dynamic_predict = (forecast.yhat[-days::5].reset_index()-forecast.yhat[-days - 5::5].reset_index())['yhat']\n",
    "    print(column)\n",
    "    print(100*np.mean((((last_60_dynamic_predict >= 0) & (last_60_dynamic >= 0)) | ((last_60_dynamic_predict <= 0) & (last_60_dynamic <= 0))).apply(lambda x: int(x))))"
   ]
  },
  {
   "cell_type": "markdown",
   "metadata": {},
   "source": [
    "Тем не менее давайте посмотрим на конечное значение индексов"
   ]
  },
  {
   "cell_type": "code",
   "execution_count": 274,
   "metadata": {},
   "outputs": [
    {
     "name": "stderr",
     "output_type": "stream",
     "text": [
      "15:32:42 - cmdstanpy - INFO - Chain [1] start processing\n",
      "15:32:42 - cmdstanpy - INFO - Chain [1] done processing\n"
     ]
    },
    {
     "name": "stdout",
     "output_type": "stream",
     "text": [
      "ISE\n",
      "мы предсказали 204.51648404910048 на самом деле: 203.8299222461267\n"
     ]
    },
    {
     "name": "stderr",
     "output_type": "stream",
     "text": [
      "15:32:43 - cmdstanpy - INFO - Chain [1] start processing\n",
      "15:32:43 - cmdstanpy - INFO - Chain [1] done processing\n",
      "15:32:43 - cmdstanpy - INFO - Chain [1] start processing\n"
     ]
    },
    {
     "name": "stdout",
     "output_type": "stream",
     "text": [
      "SP\n",
      "мы предсказали 93.9163235192495 на самом деле: 133.85145128890417\n"
     ]
    },
    {
     "name": "stderr",
     "output_type": "stream",
     "text": [
      "15:32:43 - cmdstanpy - INFO - Chain [1] done processing\n"
     ]
    },
    {
     "name": "stdout",
     "output_type": "stream",
     "text": [
      "DAX\n",
      "мы предсказали 119.19308721062109 на самом деле: 139.02929377224285\n"
     ]
    },
    {
     "name": "stderr",
     "output_type": "stream",
     "text": [
      "15:32:44 - cmdstanpy - INFO - Chain [1] start processing\n",
      "15:32:44 - cmdstanpy - INFO - Chain [1] done processing\n"
     ]
    },
    {
     "name": "stdout",
     "output_type": "stream",
     "text": [
      "FTSE\n",
      "мы предсказали 93.6239779917383 на самом деле: 125.93071212556148\n"
     ]
    },
    {
     "name": "stderr",
     "output_type": "stream",
     "text": [
      "15:32:44 - cmdstanpy - INFO - Chain [1] start processing\n",
      "15:32:45 - cmdstanpy - INFO - Chain [1] done processing\n"
     ]
    },
    {
     "name": "stdout",
     "output_type": "stream",
     "text": [
      "NIKKEI\n",
      "мы предсказали 67.70333112492558 на самом деле: 111.17620439044165\n"
     ]
    },
    {
     "name": "stderr",
     "output_type": "stream",
     "text": [
      "15:32:45 - cmdstanpy - INFO - Chain [1] start processing\n",
      "15:32:45 - cmdstanpy - INFO - Chain [1] done processing\n",
      "15:32:46 - cmdstanpy - INFO - Chain [1] start processing\n"
     ]
    },
    {
     "name": "stdout",
     "output_type": "stream",
     "text": [
      "BOVESPA\n",
      "мы предсказали 138.29631611935667 на самом деле: 154.47273839507542\n"
     ]
    },
    {
     "name": "stderr",
     "output_type": "stream",
     "text": [
      "15:32:46 - cmdstanpy - INFO - Chain [1] done processing\n",
      "15:32:46 - cmdstanpy - INFO - Chain [1] start processing\n"
     ]
    },
    {
     "name": "stdout",
     "output_type": "stream",
     "text": [
      "EU\n",
      "мы предсказали 96.25270648148243 на самом деле: 123.00357465499603\n"
     ]
    },
    {
     "name": "stderr",
     "output_type": "stream",
     "text": [
      "15:32:46 - cmdstanpy - INFO - Chain [1] done processing\n"
     ]
    },
    {
     "name": "stdout",
     "output_type": "stream",
     "text": [
      "EM\n",
      "мы предсказали 145.18265627213026 на самом деле: 160.31842522457436\n"
     ]
    }
   ],
   "source": [
    "for column in indexes.columns[1:]:\n",
    "    predictor = prophet.Prophet()\n",
    "    days = 120\n",
    "    predict_days = 181\n",
    "    predictor.fit(df = indexes.reset_index()[['date', column]][:-days].rename(columns ={'date':'ds',column:'y'}))\n",
    "    future = predictor.make_future_dataframe(periods=predict_days)\n",
    "    forecast = predictor.predict(future)\n",
    "    forecast = forecast.rename(columns = {'ds':'date'})\n",
    "    total = pd.merge(forecast, indexes, on = 'date', how = 'inner').dropna()\n",
    "    forecast = total[['date', 'yhat']]\n",
    "    forecast = forecast.rename(columns = {'date':'ds'})\n",
    "    print(column)\n",
    "    print(f'мы предсказали {forecast.yhat.iloc[536]} на самом деле: {indexes[column].iloc[536]}')"
   ]
  },
  {
   "cell_type": "markdown",
   "metadata": {},
   "source": [
    "Наиболее удачно получилось построить 'ISE', давайте построим для него график"
   ]
  },
  {
   "cell_type": "code",
   "execution_count": 275,
   "metadata": {},
   "outputs": [
    {
     "name": "stderr",
     "output_type": "stream",
     "text": [
      "15:33:31 - cmdstanpy - INFO - Chain [1] start processing\n",
      "15:33:31 - cmdstanpy - INFO - Chain [1] done processing\n"
     ]
    },
    {
     "data": {
      "application/vnd.plotly.v1+json": {
       "config": {
        "plotlyServerURL": "https://plot.ly"
       },
       "data": [
        {
         "type": "scatter",
         "x": [
          "2010-08-26T00:00:00",
          "2010-08-27T00:00:00",
          "2010-08-31T00:00:00",
          "2010-09-01T00:00:00",
          "2010-09-02T00:00:00",
          "2010-09-03T00:00:00",
          "2010-09-06T00:00:00",
          "2010-09-07T00:00:00",
          "2010-09-08T00:00:00",
          "2010-09-13T00:00:00",
          "2010-09-14T00:00:00",
          "2010-09-15T00:00:00",
          "2010-09-16T00:00:00",
          "2010-09-17T00:00:00",
          "2010-09-20T00:00:00",
          "2010-09-21T00:00:00",
          "2010-09-22T00:00:00",
          "2010-09-23T00:00:00",
          "2010-09-24T00:00:00",
          "2010-09-27T00:00:00",
          "2010-09-28T00:00:00",
          "2010-09-29T00:00:00",
          "2010-09-30T00:00:00",
          "2010-10-01T00:00:00",
          "2010-10-04T00:00:00",
          "2010-10-05T00:00:00",
          "2010-10-06T00:00:00",
          "2010-10-07T00:00:00",
          "2010-10-08T00:00:00",
          "2010-10-11T00:00:00",
          "2010-10-12T00:00:00",
          "2010-10-13T00:00:00",
          "2010-10-14T00:00:00",
          "2010-10-15T00:00:00",
          "2010-10-18T00:00:00",
          "2010-10-19T00:00:00",
          "2010-10-20T00:00:00",
          "2010-10-21T00:00:00",
          "2010-10-22T00:00:00",
          "2010-10-25T00:00:00",
          "2010-10-26T00:00:00",
          "2010-10-27T00:00:00",
          "2010-11-01T00:00:00",
          "2010-11-02T00:00:00",
          "2010-11-03T00:00:00",
          "2010-11-04T00:00:00",
          "2010-11-05T00:00:00",
          "2010-11-08T00:00:00",
          "2010-11-09T00:00:00",
          "2010-11-10T00:00:00",
          "2010-11-11T00:00:00",
          "2010-11-12T00:00:00",
          "2010-11-15T00:00:00",
          "2010-11-22T00:00:00",
          "2010-11-23T00:00:00",
          "2010-11-24T00:00:00",
          "2010-11-25T00:00:00",
          "2010-11-26T00:00:00",
          "2010-11-29T00:00:00",
          "2010-11-30T00:00:00",
          "2010-12-01T00:00:00",
          "2010-12-02T00:00:00",
          "2010-12-03T00:00:00",
          "2010-12-06T00:00:00",
          "2010-12-07T00:00:00",
          "2010-12-08T00:00:00",
          "2010-12-09T00:00:00",
          "2010-12-10T00:00:00",
          "2010-12-13T00:00:00",
          "2010-12-14T00:00:00",
          "2010-12-15T00:00:00",
          "2010-12-16T00:00:00",
          "2010-12-17T00:00:00",
          "2010-12-20T00:00:00",
          "2010-12-21T00:00:00",
          "2010-12-22T00:00:00",
          "2010-12-23T00:00:00",
          "2010-12-24T00:00:00",
          "2010-12-27T00:00:00",
          "2010-12-28T00:00:00",
          "2010-12-29T00:00:00",
          "2010-12-30T00:00:00",
          "2010-12-31T00:00:00",
          "2011-01-03T00:00:00",
          "2011-01-04T00:00:00",
          "2011-01-05T00:00:00",
          "2011-01-06T00:00:00",
          "2011-01-07T00:00:00",
          "2011-01-10T00:00:00",
          "2011-01-11T00:00:00",
          "2011-01-12T00:00:00",
          "2011-01-13T00:00:00",
          "2011-01-14T00:00:00",
          "2011-01-17T00:00:00",
          "2011-01-18T00:00:00",
          "2011-01-19T00:00:00",
          "2011-01-20T00:00:00",
          "2011-01-21T00:00:00",
          "2011-01-24T00:00:00",
          "2011-01-25T00:00:00",
          "2011-01-26T00:00:00",
          "2011-01-27T00:00:00",
          "2011-01-28T00:00:00",
          "2011-01-31T00:00:00",
          "2011-02-01T00:00:00",
          "2011-02-02T00:00:00",
          "2011-02-03T00:00:00",
          "2011-02-04T00:00:00",
          "2011-02-07T00:00:00",
          "2011-02-08T00:00:00",
          "2011-02-09T00:00:00",
          "2011-02-10T00:00:00",
          "2011-02-11T00:00:00",
          "2011-02-14T00:00:00",
          "2011-02-15T00:00:00",
          "2011-02-16T00:00:00",
          "2011-02-17T00:00:00",
          "2011-02-18T00:00:00",
          "2011-02-21T00:00:00",
          "2011-02-22T00:00:00"
         ],
         "y": [
          198.65690396530456,
          199.8196577234813,
          201.18091375560886,
          204.27424674026273,
          206.24711761011633,
          207.50816590518806,
          208.65948263204714,
          206.10896557965464,
          205.63807955587893,
          213.20403381515646,
          213.40788138994762,
          217.39846984340886,
          218.74899740053644,
          218.6036771915873,
          220.04724428081983,
          220.1189917850538,
          222.4033941658448,
          220.87113708560344,
          221.38244647920908,
          224.21168138061128,
          227.78617252363478,
          230.10582959473663,
          232.12824192665377,
          229.6684852616918,
          231.56146022892665,
          234.18033096139214,
          240.6423454005807,
          240.85558556146816,
          240.90279421966054,
          250.00772399969318,
          250.1011938874495,
          254.02382177887486,
          252.9750790961605,
          254.92007672691594,
          252.84477748068366,
          250.89891416172085,
          248.05704864922328,
          253.53815986198887,
          253.99358792316735,
          256.15786093602094,
          254.51795726599025,
          243.64100612132134,
          247.15737272796073,
          246.83441441343345,
          248.5719912041352,
          259.17863065183707,
          258.0449527382875,
          256.56528943344233,
          258.752056970953,
          254.45611145497753,
          251.4339214607723,
          247.07491062937194,
          248.6509671408641,
          239.79085386719288,
          230.7888431216152,
          230.68530016872637,
          231.5007058060858,
          226.0300975796363,
          218.16889691061098,
          220.60787682322174,
          224.8317022976737,
          228.64327437155788,
          229.58137577655003,
          231.9590366722681,
          233.85122024585462,
          230.93687092785294,
          223.580854943769,
          219.0891810771392,
          223.9503894473334,
          225.00056403967582,
          218.99231277797094,
          214.6910451250902,
          211.04445417509118,
          207.3740384617034,
          211.15182026063331,
          213.72294439548,
          216.38997186001967,
          217.3059434700341,
          217.4437154381941,
          217.53903884905532,
          216.32478509802266,
          218.15024136442275,
          216.65349139784803,
          220.44827956012927,
          222.88370176891496,
          225.50931880421385,
          227.05410725007286,
          222.79574220787617,
          216.93071781684876,
          217.32005791047274,
          219.28985799869622,
          222.86375375693748,
          221.816243301344,
          218.40743737552944,
          219.40764013199149,
          218.70355947895445,
          211.7812287735368,
          211.67304393309874,
          210.1011061438984,
          211.07569058940726,
          212.21642847378,
          209.03818717113887,
          200.96952929181845,
          199.18431033112475,
          206.20691510974044,
          209.14301784018798,
          203.31834547445138,
          206.15651241219365,
          207.91974597332577,
          209.3514202156928,
          208.67000855857535,
          203.4698263259505,
          204.77574043467223,
          204.8585750885384,
          205.04145684540856,
          207.78899145290845,
          211.10887835051685,
          210.75999939593703,
          207.8713253733363,
          203.8299222461267
         ]
        },
        {
         "type": "scatter",
         "x": [
          "2010-08-26T00:00:00",
          "2010-08-27T00:00:00",
          "2010-08-31T00:00:00",
          "2010-09-01T00:00:00",
          "2010-09-02T00:00:00",
          "2010-09-03T00:00:00",
          "2010-09-06T00:00:00",
          "2010-09-07T00:00:00",
          "2010-09-08T00:00:00",
          "2010-09-13T00:00:00",
          "2010-09-14T00:00:00",
          "2010-09-15T00:00:00",
          "2010-09-16T00:00:00",
          "2010-09-17T00:00:00",
          "2010-09-20T00:00:00",
          "2010-09-21T00:00:00",
          "2010-09-22T00:00:00",
          "2010-09-23T00:00:00",
          "2010-09-24T00:00:00",
          "2010-09-27T00:00:00",
          "2010-09-28T00:00:00",
          "2010-09-29T00:00:00",
          "2010-09-30T00:00:00",
          "2010-10-01T00:00:00",
          "2010-10-04T00:00:00",
          "2010-10-05T00:00:00",
          "2010-10-06T00:00:00",
          "2010-10-07T00:00:00",
          "2010-10-08T00:00:00",
          "2010-10-11T00:00:00",
          "2010-10-12T00:00:00",
          "2010-10-13T00:00:00",
          "2010-10-14T00:00:00",
          "2010-10-15T00:00:00",
          "2010-10-18T00:00:00",
          "2010-10-19T00:00:00",
          "2010-10-20T00:00:00",
          "2010-10-21T00:00:00",
          "2010-10-22T00:00:00",
          "2010-10-25T00:00:00",
          "2010-10-26T00:00:00",
          "2010-10-27T00:00:00",
          "2010-11-01T00:00:00",
          "2010-11-02T00:00:00",
          "2010-11-03T00:00:00",
          "2010-11-04T00:00:00",
          "2010-11-05T00:00:00",
          "2010-11-08T00:00:00",
          "2010-11-09T00:00:00",
          "2010-11-10T00:00:00",
          "2010-11-11T00:00:00",
          "2010-11-12T00:00:00",
          "2010-11-15T00:00:00",
          "2010-11-22T00:00:00",
          "2010-11-23T00:00:00",
          "2010-11-24T00:00:00",
          "2010-11-25T00:00:00",
          "2010-11-26T00:00:00",
          "2010-11-29T00:00:00",
          "2010-11-30T00:00:00",
          "2010-12-01T00:00:00",
          "2010-12-02T00:00:00",
          "2010-12-03T00:00:00",
          "2010-12-06T00:00:00",
          "2010-12-07T00:00:00",
          "2010-12-08T00:00:00",
          "2010-12-09T00:00:00",
          "2010-12-10T00:00:00",
          "2010-12-13T00:00:00",
          "2010-12-14T00:00:00",
          "2010-12-15T00:00:00",
          "2010-12-16T00:00:00",
          "2010-12-17T00:00:00",
          "2010-12-20T00:00:00",
          "2010-12-21T00:00:00",
          "2010-12-22T00:00:00",
          "2010-12-23T00:00:00",
          "2010-12-24T00:00:00",
          "2010-12-27T00:00:00",
          "2010-12-28T00:00:00",
          "2010-12-29T00:00:00",
          "2010-12-30T00:00:00",
          "2010-12-31T00:00:00",
          "2011-01-03T00:00:00",
          "2011-01-04T00:00:00",
          "2011-01-05T00:00:00",
          "2011-01-06T00:00:00",
          "2011-01-07T00:00:00",
          "2011-01-10T00:00:00",
          "2011-01-11T00:00:00",
          "2011-01-12T00:00:00",
          "2011-01-13T00:00:00",
          "2011-01-14T00:00:00",
          "2011-01-17T00:00:00",
          "2011-01-18T00:00:00",
          "2011-01-19T00:00:00",
          "2011-01-20T00:00:00",
          "2011-01-21T00:00:00",
          "2011-01-24T00:00:00",
          "2011-01-25T00:00:00",
          "2011-01-26T00:00:00",
          "2011-01-27T00:00:00",
          "2011-01-28T00:00:00",
          "2011-01-31T00:00:00",
          "2011-02-01T00:00:00",
          "2011-02-02T00:00:00",
          "2011-02-03T00:00:00",
          "2011-02-04T00:00:00",
          "2011-02-07T00:00:00",
          "2011-02-08T00:00:00",
          "2011-02-09T00:00:00",
          "2011-02-10T00:00:00",
          "2011-02-11T00:00:00",
          "2011-02-14T00:00:00",
          "2011-02-15T00:00:00",
          "2011-02-16T00:00:00",
          "2011-02-17T00:00:00",
          "2011-02-18T00:00:00",
          "2011-02-21T00:00:00",
          "2011-02-22T00:00:00"
         ],
         "y": [
          196.76080786701544,
          196.01162005005057,
          196.0587426730499,
          196.66018583902888,
          197.0991175220516,
          196.34992970508603,
          197.0732099176057,
          196.39705232808407,
          196.99849549408512,
          197.41151957263958,
          196.73536198312715,
          197.33680514912143,
          197.775736832124,
          197.0265490151595,
          197.74982922767347,
          197.07367163816554,
          197.67511480415303,
          198.1140464871821,
          197.364858670212,
          198.08813888270734,
          197.41198129320858,
          198.01342445919934,
          198.4523561422047,
          197.70316832526188,
          198.42644853776517,
          197.7502909482514,
          198.35173411423563,
          198.79066579725446,
          198.04147798029996,
          198.76475819281896,
          198.08860060329422,
          198.69004376929186,
          199.12897545231255,
          198.37978763533542,
          199.10306784785485,
          198.42691025833287,
          199.02835342432346,
          199.4672851073487,
          198.71809729038526,
          199.4413775029087,
          198.76521991338007,
          199.36666307936977,
          199.77968715794458,
          199.10352956842289,
          199.70497273441606,
          200.1439044174242,
          199.3947166004732,
          200.1179968129804,
          199.4418392234701,
          200.04328238945763,
          200.48221407247394,
          199.73302625550866,
          200.45630646803426,
          200.79461612307014,
          200.11845853355157,
          200.71990169954543,
          201.1588333825599,
          200.4096455655966,
          201.13292577810398,
          200.4567681885988,
          201.05821135457705,
          201.4971430376044,
          200.747955220632,
          201.4712354331399,
          200.795077843633,
          201.39652100963332,
          201.8354526926406,
          201.0862648756819,
          201.8095450881957,
          201.13338749868026,
          201.73483066466963,
          202.17376234767679,
          201.42457453071734,
          202.14785474322954,
          201.47169715371444,
          202.0731403197159,
          202.51207200273487,
          201.7628841857554,
          202.48616439826344,
          201.8100068087575,
          202.41144997474748,
          202.85038165775754,
          202.10119384080528,
          202.82447405332127,
          202.1483164638003,
          202.74975962978382,
          203.1886913128072,
          202.4395034958578,
          203.16278370835315,
          202.4866261188431,
          203.0880692848401,
          203.5270009678434,
          202.77781315088143,
          203.501093363389,
          202.82493577388595,
          203.42637893987165,
          203.8653106229015,
          203.11612280593127,
          203.8394030184648,
          203.163245428929,
          203.76468859491794,
          204.20362027795122,
          203.45443246096673,
          204.17771267350065,
          203.50155508397182,
          204.10299824996423,
          204.54192993296869,
          203.7927421160192,
          204.51602232853458,
          203.83986473901902,
          204.4413079050105,
          204.88023958801318,
          204.13105177105467,
          204.85433198356841,
          204.17817439405323,
          204.7796175600421,
          205.21854924306294,
          204.46936142610454,
          205.19264163862422,
          204.51648404910048
         ]
        }
       ],
       "layout": {
        "template": {
         "data": {
          "bar": [
           {
            "error_x": {
             "color": "#2a3f5f"
            },
            "error_y": {
             "color": "#2a3f5f"
            },
            "marker": {
             "line": {
              "color": "#E5ECF6",
              "width": 0.5
             },
             "pattern": {
              "fillmode": "overlay",
              "size": 10,
              "solidity": 0.2
             }
            },
            "type": "bar"
           }
          ],
          "barpolar": [
           {
            "marker": {
             "line": {
              "color": "#E5ECF6",
              "width": 0.5
             },
             "pattern": {
              "fillmode": "overlay",
              "size": 10,
              "solidity": 0.2
             }
            },
            "type": "barpolar"
           }
          ],
          "carpet": [
           {
            "aaxis": {
             "endlinecolor": "#2a3f5f",
             "gridcolor": "white",
             "linecolor": "white",
             "minorgridcolor": "white",
             "startlinecolor": "#2a3f5f"
            },
            "baxis": {
             "endlinecolor": "#2a3f5f",
             "gridcolor": "white",
             "linecolor": "white",
             "minorgridcolor": "white",
             "startlinecolor": "#2a3f5f"
            },
            "type": "carpet"
           }
          ],
          "choropleth": [
           {
            "colorbar": {
             "outlinewidth": 0,
             "ticks": ""
            },
            "type": "choropleth"
           }
          ],
          "contour": [
           {
            "colorbar": {
             "outlinewidth": 0,
             "ticks": ""
            },
            "colorscale": [
             [
              0,
              "#0d0887"
             ],
             [
              0.1111111111111111,
              "#46039f"
             ],
             [
              0.2222222222222222,
              "#7201a8"
             ],
             [
              0.3333333333333333,
              "#9c179e"
             ],
             [
              0.4444444444444444,
              "#bd3786"
             ],
             [
              0.5555555555555556,
              "#d8576b"
             ],
             [
              0.6666666666666666,
              "#ed7953"
             ],
             [
              0.7777777777777778,
              "#fb9f3a"
             ],
             [
              0.8888888888888888,
              "#fdca26"
             ],
             [
              1,
              "#f0f921"
             ]
            ],
            "type": "contour"
           }
          ],
          "contourcarpet": [
           {
            "colorbar": {
             "outlinewidth": 0,
             "ticks": ""
            },
            "type": "contourcarpet"
           }
          ],
          "heatmap": [
           {
            "colorbar": {
             "outlinewidth": 0,
             "ticks": ""
            },
            "colorscale": [
             [
              0,
              "#0d0887"
             ],
             [
              0.1111111111111111,
              "#46039f"
             ],
             [
              0.2222222222222222,
              "#7201a8"
             ],
             [
              0.3333333333333333,
              "#9c179e"
             ],
             [
              0.4444444444444444,
              "#bd3786"
             ],
             [
              0.5555555555555556,
              "#d8576b"
             ],
             [
              0.6666666666666666,
              "#ed7953"
             ],
             [
              0.7777777777777778,
              "#fb9f3a"
             ],
             [
              0.8888888888888888,
              "#fdca26"
             ],
             [
              1,
              "#f0f921"
             ]
            ],
            "type": "heatmap"
           }
          ],
          "heatmapgl": [
           {
            "colorbar": {
             "outlinewidth": 0,
             "ticks": ""
            },
            "colorscale": [
             [
              0,
              "#0d0887"
             ],
             [
              0.1111111111111111,
              "#46039f"
             ],
             [
              0.2222222222222222,
              "#7201a8"
             ],
             [
              0.3333333333333333,
              "#9c179e"
             ],
             [
              0.4444444444444444,
              "#bd3786"
             ],
             [
              0.5555555555555556,
              "#d8576b"
             ],
             [
              0.6666666666666666,
              "#ed7953"
             ],
             [
              0.7777777777777778,
              "#fb9f3a"
             ],
             [
              0.8888888888888888,
              "#fdca26"
             ],
             [
              1,
              "#f0f921"
             ]
            ],
            "type": "heatmapgl"
           }
          ],
          "histogram": [
           {
            "marker": {
             "pattern": {
              "fillmode": "overlay",
              "size": 10,
              "solidity": 0.2
             }
            },
            "type": "histogram"
           }
          ],
          "histogram2d": [
           {
            "colorbar": {
             "outlinewidth": 0,
             "ticks": ""
            },
            "colorscale": [
             [
              0,
              "#0d0887"
             ],
             [
              0.1111111111111111,
              "#46039f"
             ],
             [
              0.2222222222222222,
              "#7201a8"
             ],
             [
              0.3333333333333333,
              "#9c179e"
             ],
             [
              0.4444444444444444,
              "#bd3786"
             ],
             [
              0.5555555555555556,
              "#d8576b"
             ],
             [
              0.6666666666666666,
              "#ed7953"
             ],
             [
              0.7777777777777778,
              "#fb9f3a"
             ],
             [
              0.8888888888888888,
              "#fdca26"
             ],
             [
              1,
              "#f0f921"
             ]
            ],
            "type": "histogram2d"
           }
          ],
          "histogram2dcontour": [
           {
            "colorbar": {
             "outlinewidth": 0,
             "ticks": ""
            },
            "colorscale": [
             [
              0,
              "#0d0887"
             ],
             [
              0.1111111111111111,
              "#46039f"
             ],
             [
              0.2222222222222222,
              "#7201a8"
             ],
             [
              0.3333333333333333,
              "#9c179e"
             ],
             [
              0.4444444444444444,
              "#bd3786"
             ],
             [
              0.5555555555555556,
              "#d8576b"
             ],
             [
              0.6666666666666666,
              "#ed7953"
             ],
             [
              0.7777777777777778,
              "#fb9f3a"
             ],
             [
              0.8888888888888888,
              "#fdca26"
             ],
             [
              1,
              "#f0f921"
             ]
            ],
            "type": "histogram2dcontour"
           }
          ],
          "mesh3d": [
           {
            "colorbar": {
             "outlinewidth": 0,
             "ticks": ""
            },
            "type": "mesh3d"
           }
          ],
          "parcoords": [
           {
            "line": {
             "colorbar": {
              "outlinewidth": 0,
              "ticks": ""
             }
            },
            "type": "parcoords"
           }
          ],
          "pie": [
           {
            "automargin": true,
            "type": "pie"
           }
          ],
          "scatter": [
           {
            "fillpattern": {
             "fillmode": "overlay",
             "size": 10,
             "solidity": 0.2
            },
            "type": "scatter"
           }
          ],
          "scatter3d": [
           {
            "line": {
             "colorbar": {
              "outlinewidth": 0,
              "ticks": ""
             }
            },
            "marker": {
             "colorbar": {
              "outlinewidth": 0,
              "ticks": ""
             }
            },
            "type": "scatter3d"
           }
          ],
          "scattercarpet": [
           {
            "marker": {
             "colorbar": {
              "outlinewidth": 0,
              "ticks": ""
             }
            },
            "type": "scattercarpet"
           }
          ],
          "scattergeo": [
           {
            "marker": {
             "colorbar": {
              "outlinewidth": 0,
              "ticks": ""
             }
            },
            "type": "scattergeo"
           }
          ],
          "scattergl": [
           {
            "marker": {
             "colorbar": {
              "outlinewidth": 0,
              "ticks": ""
             }
            },
            "type": "scattergl"
           }
          ],
          "scattermapbox": [
           {
            "marker": {
             "colorbar": {
              "outlinewidth": 0,
              "ticks": ""
             }
            },
            "type": "scattermapbox"
           }
          ],
          "scatterpolar": [
           {
            "marker": {
             "colorbar": {
              "outlinewidth": 0,
              "ticks": ""
             }
            },
            "type": "scatterpolar"
           }
          ],
          "scatterpolargl": [
           {
            "marker": {
             "colorbar": {
              "outlinewidth": 0,
              "ticks": ""
             }
            },
            "type": "scatterpolargl"
           }
          ],
          "scatterternary": [
           {
            "marker": {
             "colorbar": {
              "outlinewidth": 0,
              "ticks": ""
             }
            },
            "type": "scatterternary"
           }
          ],
          "surface": [
           {
            "colorbar": {
             "outlinewidth": 0,
             "ticks": ""
            },
            "colorscale": [
             [
              0,
              "#0d0887"
             ],
             [
              0.1111111111111111,
              "#46039f"
             ],
             [
              0.2222222222222222,
              "#7201a8"
             ],
             [
              0.3333333333333333,
              "#9c179e"
             ],
             [
              0.4444444444444444,
              "#bd3786"
             ],
             [
              0.5555555555555556,
              "#d8576b"
             ],
             [
              0.6666666666666666,
              "#ed7953"
             ],
             [
              0.7777777777777778,
              "#fb9f3a"
             ],
             [
              0.8888888888888888,
              "#fdca26"
             ],
             [
              1,
              "#f0f921"
             ]
            ],
            "type": "surface"
           }
          ],
          "table": [
           {
            "cells": {
             "fill": {
              "color": "#EBF0F8"
             },
             "line": {
              "color": "white"
             }
            },
            "header": {
             "fill": {
              "color": "#C8D4E3"
             },
             "line": {
              "color": "white"
             }
            },
            "type": "table"
           }
          ]
         },
         "layout": {
          "annotationdefaults": {
           "arrowcolor": "#2a3f5f",
           "arrowhead": 0,
           "arrowwidth": 1
          },
          "autotypenumbers": "strict",
          "coloraxis": {
           "colorbar": {
            "outlinewidth": 0,
            "ticks": ""
           }
          },
          "colorscale": {
           "diverging": [
            [
             0,
             "#8e0152"
            ],
            [
             0.1,
             "#c51b7d"
            ],
            [
             0.2,
             "#de77ae"
            ],
            [
             0.3,
             "#f1b6da"
            ],
            [
             0.4,
             "#fde0ef"
            ],
            [
             0.5,
             "#f7f7f7"
            ],
            [
             0.6,
             "#e6f5d0"
            ],
            [
             0.7,
             "#b8e186"
            ],
            [
             0.8,
             "#7fbc41"
            ],
            [
             0.9,
             "#4d9221"
            ],
            [
             1,
             "#276419"
            ]
           ],
           "sequential": [
            [
             0,
             "#0d0887"
            ],
            [
             0.1111111111111111,
             "#46039f"
            ],
            [
             0.2222222222222222,
             "#7201a8"
            ],
            [
             0.3333333333333333,
             "#9c179e"
            ],
            [
             0.4444444444444444,
             "#bd3786"
            ],
            [
             0.5555555555555556,
             "#d8576b"
            ],
            [
             0.6666666666666666,
             "#ed7953"
            ],
            [
             0.7777777777777778,
             "#fb9f3a"
            ],
            [
             0.8888888888888888,
             "#fdca26"
            ],
            [
             1,
             "#f0f921"
            ]
           ],
           "sequentialminus": [
            [
             0,
             "#0d0887"
            ],
            [
             0.1111111111111111,
             "#46039f"
            ],
            [
             0.2222222222222222,
             "#7201a8"
            ],
            [
             0.3333333333333333,
             "#9c179e"
            ],
            [
             0.4444444444444444,
             "#bd3786"
            ],
            [
             0.5555555555555556,
             "#d8576b"
            ],
            [
             0.6666666666666666,
             "#ed7953"
            ],
            [
             0.7777777777777778,
             "#fb9f3a"
            ],
            [
             0.8888888888888888,
             "#fdca26"
            ],
            [
             1,
             "#f0f921"
            ]
           ]
          },
          "colorway": [
           "#636efa",
           "#EF553B",
           "#00cc96",
           "#ab63fa",
           "#FFA15A",
           "#19d3f3",
           "#FF6692",
           "#B6E880",
           "#FF97FF",
           "#FECB52"
          ],
          "font": {
           "color": "#2a3f5f"
          },
          "geo": {
           "bgcolor": "white",
           "lakecolor": "white",
           "landcolor": "#E5ECF6",
           "showlakes": true,
           "showland": true,
           "subunitcolor": "white"
          },
          "hoverlabel": {
           "align": "left"
          },
          "hovermode": "closest",
          "mapbox": {
           "style": "light"
          },
          "paper_bgcolor": "white",
          "plot_bgcolor": "#E5ECF6",
          "polar": {
           "angularaxis": {
            "gridcolor": "white",
            "linecolor": "white",
            "ticks": ""
           },
           "bgcolor": "#E5ECF6",
           "radialaxis": {
            "gridcolor": "white",
            "linecolor": "white",
            "ticks": ""
           }
          },
          "scene": {
           "xaxis": {
            "backgroundcolor": "#E5ECF6",
            "gridcolor": "white",
            "gridwidth": 2,
            "linecolor": "white",
            "showbackground": true,
            "ticks": "",
            "zerolinecolor": "white"
           },
           "yaxis": {
            "backgroundcolor": "#E5ECF6",
            "gridcolor": "white",
            "gridwidth": 2,
            "linecolor": "white",
            "showbackground": true,
            "ticks": "",
            "zerolinecolor": "white"
           },
           "zaxis": {
            "backgroundcolor": "#E5ECF6",
            "gridcolor": "white",
            "gridwidth": 2,
            "linecolor": "white",
            "showbackground": true,
            "ticks": "",
            "zerolinecolor": "white"
           }
          },
          "shapedefaults": {
           "line": {
            "color": "#2a3f5f"
           }
          },
          "ternary": {
           "aaxis": {
            "gridcolor": "white",
            "linecolor": "white",
            "ticks": ""
           },
           "baxis": {
            "gridcolor": "white",
            "linecolor": "white",
            "ticks": ""
           },
           "bgcolor": "#E5ECF6",
           "caxis": {
            "gridcolor": "white",
            "linecolor": "white",
            "ticks": ""
           }
          },
          "title": {
           "x": 0.05
          },
          "xaxis": {
           "automargin": true,
           "gridcolor": "white",
           "linecolor": "white",
           "ticks": "",
           "title": {
            "standoff": 15
           },
           "zerolinecolor": "white",
           "zerolinewidth": 2
          },
          "yaxis": {
           "automargin": true,
           "gridcolor": "white",
           "linecolor": "white",
           "ticks": "",
           "title": {
            "standoff": 15
           },
           "zerolinecolor": "white",
           "zerolinewidth": 2
          }
         }
        }
       }
      }
     },
     "metadata": {},
     "output_type": "display_data"
    },
    {
     "name": "stdout",
     "output_type": "stream",
     "text": [
      "ds      2011-02-22 00:00:00\n",
      "yhat             204.516484\n",
      "Name: 536, dtype: object\n",
      "date       2011-02-22 00:00:00\n",
      "ISE                 203.829922\n",
      "SP                  133.851451\n",
      "DAX                 139.029294\n",
      "FTSE                125.930712\n",
      "NIKKEI              111.176204\n",
      "BOVESPA             154.472738\n",
      "EU                  123.003575\n",
      "EM                  160.318425\n",
      "Name: 536, dtype: object\n"
     ]
    }
   ],
   "source": [
    "def weekdays(some_date):\n",
    "    if some_date.weekday() == 5 or some_date.weekday() == 6:\n",
    "        return None\n",
    "    return some_date\n",
    "import plotly.graph_objects as go\n",
    "predictor = prophet.Prophet()\n",
    "days = 120\n",
    "predict_days = 181\n",
    "indexes[['date', \"ISE\"]][:-days].rename(columns ={'date':'ds','ISE':'y'})\n",
    "predictor.fit(df = indexes.reset_index()[['date', 'ISE']][:-days].rename(columns ={'date':'ds','ISE':'y'}))\n",
    "future = predictor.make_future_dataframe(periods=predict_days)\n",
    "forecast = predictor.predict(future)\n",
    "forecast = forecast.rename(columns = {'ds':'date'})\n",
    "total = pd.merge(forecast, indexes, on = 'date', how = 'inner').dropna()\n",
    "forecast = total[['date', 'yhat']]\n",
    "forecast = forecast.rename(columns = {'date':'ds'})\n",
    "fig = go.Figure()\n",
    "fig.add_trace(go.Scatter(x = indexes['date'][-days:], y = indexes['ISE'][-days:]))\n",
    "fig.add_trace(go.Scatter(x = forecast['ds'][-days:], y = forecast['yhat'][-days:]))\n",
    "fig.show()\n",
    "print(forecast.iloc[-1])\n",
    "print(indexes.iloc[-1])"
   ]
  },
  {
   "cell_type": "markdown",
   "metadata": {},
   "source": [
    "В целом можно сделать вывод, что prophet больше подходит для больших датасетов и больших горизонтов предсказания, поэтому и предсказание на этом датасете такое неточное"
   ]
  },
  {
   "cell_type": "markdown",
   "metadata": {},
   "source": []
  }
 ],
 "metadata": {
  "kernelspec": {
   "display_name": "Python 3",
   "language": "python",
   "name": "python3"
  },
  "language_info": {
   "codemirror_mode": {
    "name": "ipython",
    "version": 3
   },
   "file_extension": ".py",
   "mimetype": "text/x-python",
   "name": "python",
   "nbconvert_exporter": "python",
   "pygments_lexer": "ipython3",
   "version": "3.10.7"
  }
 },
 "nbformat": 4,
 "nbformat_minor": 2
}
