{
 "cells": [
  {
   "attachments": {},
   "cell_type": "markdown",
   "metadata": {},
   "source": [
    "### Prophet"
   ]
  },
  {
   "cell_type": "code",
   "execution_count": 439,
   "metadata": {},
   "outputs": [],
   "source": [
    "import pandas as pd\n",
    "import matplotlib.pyplot as plt\n",
    "import seaborn as sns"
   ]
  },
  {
   "cell_type": "code",
   "execution_count": 440,
   "metadata": {},
   "outputs": [],
   "source": [
    "pd.set_option(\"display.precision\", 8)"
   ]
  },
  {
   "cell_type": "code",
   "execution_count": 441,
   "metadata": {},
   "outputs": [],
   "source": [
    "indexes = pd.read_excel(\"/Users/khetag/Downloads/data_akbilgic.xlsx\")"
   ]
  },
  {
   "cell_type": "markdown",
   "metadata": {},
   "source": [
    "Начнем с того, что в таблице написаны не сами значения индексов, а их каждодневные относительные изменения, преобразуем значения в относительные относительно значения на момент 4 января 2009 года"
   ]
  },
  {
   "cell_type": "code",
   "execution_count": 442,
   "metadata": {},
   "outputs": [],
   "source": [
    "columns = list(indexes.iloc[0])\n",
    "columns[1] = 'ISE_turkish'"
   ]
  },
  {
   "cell_type": "markdown",
   "metadata": {},
   "source": [
    "Кроме того давайте удалим первый столбец ISE(он изверяется в лирах, у нас уже есть столбец который измеряется в долларах, предсказать курс лиры не наша цель)"
   ]
  },
  {
   "cell_type": "code",
   "execution_count": 443,
   "metadata": {},
   "outputs": [
    {
     "data": {
      "text/html": [
       "<div>\n",
       "<style scoped>\n",
       "    .dataframe tbody tr th:only-of-type {\n",
       "        vertical-align: middle;\n",
       "    }\n",
       "\n",
       "    .dataframe tbody tr th {\n",
       "        vertical-align: top;\n",
       "    }\n",
       "\n",
       "    .dataframe thead th {\n",
       "        text-align: right;\n",
       "    }\n",
       "</style>\n",
       "<table border=\"1\" class=\"dataframe\">\n",
       "  <thead>\n",
       "    <tr style=\"text-align: right;\">\n",
       "      <th></th>\n",
       "      <th>date</th>\n",
       "      <th>ISE</th>\n",
       "      <th>SP</th>\n",
       "      <th>DAX</th>\n",
       "      <th>FTSE</th>\n",
       "      <th>NIKKEI</th>\n",
       "      <th>BOVESPA</th>\n",
       "      <th>EU</th>\n",
       "      <th>EM</th>\n",
       "    </tr>\n",
       "  </thead>\n",
       "  <tbody>\n",
       "    <tr>\n",
       "      <th>0</th>\n",
       "      <td>2009-01-04</td>\n",
       "      <td>100</td>\n",
       "      <td>100</td>\n",
       "      <td>100</td>\n",
       "      <td>100</td>\n",
       "      <td>100</td>\n",
       "      <td>100</td>\n",
       "      <td>100</td>\n",
       "      <td>100</td>\n",
       "    </tr>\n",
       "    <tr>\n",
       "      <th>1</th>\n",
       "      <td>2009-01-05</td>\n",
       "      <td>0.03837619</td>\n",
       "      <td>-0.00467931</td>\n",
       "      <td>0.00219342</td>\n",
       "      <td>0.00389438</td>\n",
       "      <td>0</td>\n",
       "      <td>0.03119023</td>\n",
       "      <td>0.01269804</td>\n",
       "      <td>0.02852446</td>\n",
       "    </tr>\n",
       "    <tr>\n",
       "      <th>2</th>\n",
       "      <td>2009-01-06</td>\n",
       "      <td>0.03181274</td>\n",
       "      <td>0.00778674</td>\n",
       "      <td>0.00845534</td>\n",
       "      <td>0.01286561</td>\n",
       "      <td>0.00416245</td>\n",
       "      <td>0.01891958</td>\n",
       "      <td>0.01134065</td>\n",
       "      <td>0.00877264</td>\n",
       "    </tr>\n",
       "    <tr>\n",
       "      <th>3</th>\n",
       "      <td>2009-01-07</td>\n",
       "      <td>-0.02635297</td>\n",
       "      <td>-0.03046913</td>\n",
       "      <td>-0.01783306</td>\n",
       "      <td>-0.02873459</td>\n",
       "      <td>0.01729293</td>\n",
       "      <td>-0.03589858</td>\n",
       "      <td>-0.0170728</td>\n",
       "      <td>-0.02001541</td>\n",
       "    </tr>\n",
       "    <tr>\n",
       "      <th>4</th>\n",
       "      <td>2009-01-08</td>\n",
       "      <td>-0.0847159</td>\n",
       "      <td>0.00339136</td>\n",
       "      <td>-0.01172628</td>\n",
       "      <td>-0.000466</td>\n",
       "      <td>-0.04006131</td>\n",
       "      <td>0.02828315</td>\n",
       "      <td>-0.00556096</td>\n",
       "      <td>-0.01942378</td>\n",
       "    </tr>\n",
       "    <tr>\n",
       "      <th>...</th>\n",
       "      <td>...</td>\n",
       "      <td>...</td>\n",
       "      <td>...</td>\n",
       "      <td>...</td>\n",
       "      <td>...</td>\n",
       "      <td>...</td>\n",
       "      <td>...</td>\n",
       "      <td>...</td>\n",
       "      <td>...</td>\n",
       "    </tr>\n",
       "    <tr>\n",
       "      <th>532</th>\n",
       "      <td>2011-02-16</td>\n",
       "      <td>0.0133999</td>\n",
       "      <td>0.00623799</td>\n",
       "      <td>0.00192516</td>\n",
       "      <td>0.00795226</td>\n",
       "      <td>0.00571749</td>\n",
       "      <td>0.01837079</td>\n",
       "      <td>0.00697461</td>\n",
       "      <td>0.00303899</td>\n",
       "    </tr>\n",
       "    <tr>\n",
       "      <th>533</th>\n",
       "      <td>2011-02-17</td>\n",
       "      <td>0.0159772</td>\n",
       "      <td>0.00307089</td>\n",
       "      <td>-0.00118625</td>\n",
       "      <td>0.00034503</td>\n",
       "      <td>0.00261955</td>\n",
       "      <td>0.00168569</td>\n",
       "      <td>-0.00058051</td>\n",
       "      <td>0.00103859</td>\n",
       "    </tr>\n",
       "    <tr>\n",
       "      <th>534</th>\n",
       "      <td>2011-02-18</td>\n",
       "      <td>-0.0016526</td>\n",
       "      <td>0.00192291</td>\n",
       "      <td>0.00287211</td>\n",
       "      <td>-0.00072307</td>\n",
       "      <td>0.00056828</td>\n",
       "      <td>0.00562792</td>\n",
       "      <td>0.00057157</td>\n",
       "      <td>0.00693787</td>\n",
       "    </tr>\n",
       "    <tr>\n",
       "      <th>535</th>\n",
       "      <td>2011-02-21</td>\n",
       "      <td>-0.01370599</td>\n",
       "      <td>-0.02074215</td>\n",
       "      <td>-0.01423886</td>\n",
       "      <td>-0.0112749</td>\n",
       "      <td>0.00135758</td>\n",
       "      <td>-0.01194168</td>\n",
       "      <td>-0.01261533</td>\n",
       "      <td>-0.00095774</td>\n",
       "    </tr>\n",
       "    <tr>\n",
       "      <th>536</th>\n",
       "      <td>2011-02-22</td>\n",
       "      <td>-0.01944185</td>\n",
       "      <td>0</td>\n",
       "      <td>-0.00047267</td>\n",
       "      <td>-0.0029971</td>\n",
       "      <td>-0.01791963</td>\n",
       "      <td>-0.01225155</td>\n",
       "      <td>-0.00546489</td>\n",
       "      <td>-0.01429693</td>\n",
       "    </tr>\n",
       "  </tbody>\n",
       "</table>\n",
       "<p>537 rows × 9 columns</p>\n",
       "</div>"
      ],
      "text/plain": [
       "          date         ISE          SP         DAX        FTSE      NIKKEI  \\\n",
       "0   2009-01-04         100         100         100         100         100   \n",
       "1   2009-01-05  0.03837619 -0.00467931  0.00219342  0.00389438           0   \n",
       "2   2009-01-06  0.03181274  0.00778674  0.00845534  0.01286561  0.00416245   \n",
       "3   2009-01-07 -0.02635297 -0.03046913 -0.01783306 -0.02873459  0.01729293   \n",
       "4   2009-01-08  -0.0847159  0.00339136 -0.01172628   -0.000466 -0.04006131   \n",
       "..         ...         ...         ...         ...         ...         ...   \n",
       "532 2011-02-16   0.0133999  0.00623799  0.00192516  0.00795226  0.00571749   \n",
       "533 2011-02-17   0.0159772  0.00307089 -0.00118625  0.00034503  0.00261955   \n",
       "534 2011-02-18  -0.0016526  0.00192291  0.00287211 -0.00072307  0.00056828   \n",
       "535 2011-02-21 -0.01370599 -0.02074215 -0.01423886  -0.0112749  0.00135758   \n",
       "536 2011-02-22 -0.01944185           0 -0.00047267  -0.0029971 -0.01791963   \n",
       "\n",
       "        BOVESPA          EU          EM  \n",
       "0           100         100         100  \n",
       "1    0.03119023  0.01269804  0.02852446  \n",
       "2    0.01891958  0.01134065  0.00877264  \n",
       "3   -0.03589858  -0.0170728 -0.02001541  \n",
       "4    0.02828315 -0.00556096 -0.01942378  \n",
       "..          ...         ...         ...  \n",
       "532  0.01837079  0.00697461  0.00303899  \n",
       "533  0.00168569 -0.00058051  0.00103859  \n",
       "534  0.00562792  0.00057157  0.00693787  \n",
       "535 -0.01194168 -0.01261533 -0.00095774  \n",
       "536 -0.01225155 -0.00546489 -0.01429693  \n",
       "\n",
       "[537 rows x 9 columns]"
      ]
     },
     "execution_count": 443,
     "metadata": {},
     "output_type": "execute_result"
    }
   ],
   "source": [
    "from datetime import datetime as dt\n",
    "indexes.columns = columns\n",
    "indexes.iloc[0] = ['2009-01-04 00:00:00', '100','100','100','100', '100','100','100','100','100']\n",
    "indexes = indexes.drop(columns=[\"ISE_turkish\"])\n",
    "columns = indexes.columns\n",
    "indexes.date = indexes.date.apply(lambda x: dt.fromisoformat(str(x)))\n",
    "indexes"
   ]
  },
  {
   "cell_type": "code",
   "execution_count": 444,
   "metadata": {},
   "outputs": [],
   "source": [
    "def to_float(x):\n",
    "    try:\n",
    "        x = float(x)\n",
    "    except ValueError:\n",
    "        x = 0\n",
    "    except TypeError:\n",
    "        x = 0\n",
    "    return x\n",
    "for column in columns[1:]:\n",
    "    indexes[column] = indexes[column].apply(to_float)\n",
    "\n",
    "def weekdays(some_date):\n",
    "    if some_date.weekday() == 5 or some_date.weekday() == 6:\n",
    "        return None\n",
    "    return some_date"
   ]
  },
  {
   "cell_type": "markdown",
   "metadata": {},
   "source": [
    "Будем хранить в таблице относительные значения индексов относительно первого дня(в процентах)"
   ]
  },
  {
   "cell_type": "code",
   "execution_count": 445,
   "metadata": {},
   "outputs": [
    {
     "data": {
      "text/html": [
       "<div>\n",
       "<style scoped>\n",
       "    .dataframe tbody tr th:only-of-type {\n",
       "        vertical-align: middle;\n",
       "    }\n",
       "\n",
       "    .dataframe tbody tr th {\n",
       "        vertical-align: top;\n",
       "    }\n",
       "\n",
       "    .dataframe thead th {\n",
       "        text-align: right;\n",
       "    }\n",
       "</style>\n",
       "<table border=\"1\" class=\"dataframe\">\n",
       "  <thead>\n",
       "    <tr style=\"text-align: right;\">\n",
       "      <th></th>\n",
       "      <th>date</th>\n",
       "      <th>ISE</th>\n",
       "      <th>SP</th>\n",
       "      <th>DAX</th>\n",
       "      <th>FTSE</th>\n",
       "      <th>NIKKEI</th>\n",
       "      <th>BOVESPA</th>\n",
       "      <th>EU</th>\n",
       "      <th>EM</th>\n",
       "    </tr>\n",
       "  </thead>\n",
       "  <tbody>\n",
       "    <tr>\n",
       "      <th>0</th>\n",
       "      <td>2009-01-04</td>\n",
       "      <td>100.00000000</td>\n",
       "      <td>100.00000000</td>\n",
       "      <td>100.00000000</td>\n",
       "      <td>100.00000000</td>\n",
       "      <td>100.00000000</td>\n",
       "      <td>100.00000000</td>\n",
       "      <td>100.00000000</td>\n",
       "      <td>100.00000000</td>\n",
       "    </tr>\n",
       "    <tr>\n",
       "      <th>1</th>\n",
       "      <td>2009-01-05</td>\n",
       "      <td>103.83761870</td>\n",
       "      <td>99.53206850</td>\n",
       "      <td>100.21934190</td>\n",
       "      <td>100.38943760</td>\n",
       "      <td>100.00000000</td>\n",
       "      <td>103.11902290</td>\n",
       "      <td>101.26980390</td>\n",
       "      <td>102.85244620</td>\n",
       "    </tr>\n",
       "    <tr>\n",
       "      <th>2</th>\n",
       "      <td>2009-01-06</td>\n",
       "      <td>107.14097818</td>\n",
       "      <td>100.30709864</td>\n",
       "      <td>101.06673061</td>\n",
       "      <td>101.68100905</td>\n",
       "      <td>100.41624520</td>\n",
       "      <td>105.06999150</td>\n",
       "      <td>102.41826950</td>\n",
       "      <td>103.75473410</td>\n",
       "    </tr>\n",
       "    <tr>\n",
       "      <th>3</th>\n",
       "      <td>2009-01-07</td>\n",
       "      <td>104.31749562</td>\n",
       "      <td>97.25082821</td>\n",
       "      <td>99.26440134</td>\n",
       "      <td>98.75924664</td>\n",
       "      <td>102.15273650</td>\n",
       "      <td>101.29812843</td>\n",
       "      <td>100.66970338</td>\n",
       "      <td>101.67804035</td>\n",
       "    </tr>\n",
       "    <tr>\n",
       "      <th>4</th>\n",
       "      <td>2009-01-08</td>\n",
       "      <td>95.48014489</td>\n",
       "      <td>97.58064117</td>\n",
       "      <td>98.10039947</td>\n",
       "      <td>98.71322493</td>\n",
       "      <td>98.06036416</td>\n",
       "      <td>104.16315879</td>\n",
       "      <td>100.10988329</td>\n",
       "      <td>99.70306866</td>\n",
       "    </tr>\n",
       "    <tr>\n",
       "      <th>...</th>\n",
       "      <td>...</td>\n",
       "      <td>...</td>\n",
       "      <td>...</td>\n",
       "      <td>...</td>\n",
       "      <td>...</td>\n",
       "      <td>...</td>\n",
       "      <td>...</td>\n",
       "      <td>...</td>\n",
       "      <td>...</td>\n",
       "    </tr>\n",
       "    <tr>\n",
       "      <th>532</th>\n",
       "      <td>2011-02-16</td>\n",
       "      <td>207.78899145</td>\n",
       "      <td>136.00663356</td>\n",
       "      <td>140.86720108</td>\n",
       "      <td>127.79798191</td>\n",
       "      <td>112.69190465</td>\n",
       "      <td>157.12819213</td>\n",
       "      <td>125.26082321</td>\n",
       "      <td>161.51020736</td>\n",
       "    </tr>\n",
       "    <tr>\n",
       "      <th>533</th>\n",
       "      <td>2011-02-17</td>\n",
       "      <td>211.10887835</td>\n",
       "      <td>136.42429511</td>\n",
       "      <td>140.70009736</td>\n",
       "      <td>127.84207656</td>\n",
       "      <td>112.98710707</td>\n",
       "      <td>157.39306203</td>\n",
       "      <td>125.18810742</td>\n",
       "      <td>161.67794944</td>\n",
       "    </tr>\n",
       "    <tr>\n",
       "      <th>534</th>\n",
       "      <td>2011-02-18</td>\n",
       "      <td>210.75999940</td>\n",
       "      <td>136.68662620</td>\n",
       "      <td>141.10420324</td>\n",
       "      <td>127.74963830</td>\n",
       "      <td>113.05131538</td>\n",
       "      <td>158.27885838</td>\n",
       "      <td>125.25966169</td>\n",
       "      <td>162.79965052</td>\n",
       "    </tr>\n",
       "    <tr>\n",
       "      <th>535</th>\n",
       "      <td>2011-02-21</td>\n",
       "      <td>207.87132537</td>\n",
       "      <td>133.85145129</td>\n",
       "      <td>139.09504010</td>\n",
       "      <td>126.30927428</td>\n",
       "      <td>113.20479192</td>\n",
       "      <td>156.38874353</td>\n",
       "      <td>123.67946985</td>\n",
       "      <td>162.64373143</td>\n",
       "    </tr>\n",
       "    <tr>\n",
       "      <th>536</th>\n",
       "      <td>2011-02-22</td>\n",
       "      <td>203.82992225</td>\n",
       "      <td>133.85145129</td>\n",
       "      <td>139.02929377</td>\n",
       "      <td>125.93071213</td>\n",
       "      <td>111.17620439</td>\n",
       "      <td>154.47273840</td>\n",
       "      <td>123.00357465</td>\n",
       "      <td>160.31842522</td>\n",
       "    </tr>\n",
       "  </tbody>\n",
       "</table>\n",
       "<p>537 rows × 9 columns</p>\n",
       "</div>"
      ],
      "text/plain": [
       "          date           ISE            SP           DAX          FTSE  \\\n",
       "0   2009-01-04  100.00000000  100.00000000  100.00000000  100.00000000   \n",
       "1   2009-01-05  103.83761870   99.53206850  100.21934190  100.38943760   \n",
       "2   2009-01-06  107.14097818  100.30709864  101.06673061  101.68100905   \n",
       "3   2009-01-07  104.31749562   97.25082821   99.26440134   98.75924664   \n",
       "4   2009-01-08   95.48014489   97.58064117   98.10039947   98.71322493   \n",
       "..         ...           ...           ...           ...           ...   \n",
       "532 2011-02-16  207.78899145  136.00663356  140.86720108  127.79798191   \n",
       "533 2011-02-17  211.10887835  136.42429511  140.70009736  127.84207656   \n",
       "534 2011-02-18  210.75999940  136.68662620  141.10420324  127.74963830   \n",
       "535 2011-02-21  207.87132537  133.85145129  139.09504010  126.30927428   \n",
       "536 2011-02-22  203.82992225  133.85145129  139.02929377  125.93071213   \n",
       "\n",
       "           NIKKEI       BOVESPA            EU            EM  \n",
       "0    100.00000000  100.00000000  100.00000000  100.00000000  \n",
       "1    100.00000000  103.11902290  101.26980390  102.85244620  \n",
       "2    100.41624520  105.06999150  102.41826950  103.75473410  \n",
       "3    102.15273650  101.29812843  100.66970338  101.67804035  \n",
       "4     98.06036416  104.16315879  100.10988329   99.70306866  \n",
       "..            ...           ...           ...           ...  \n",
       "532  112.69190465  157.12819213  125.26082321  161.51020736  \n",
       "533  112.98710707  157.39306203  125.18810742  161.67794944  \n",
       "534  113.05131538  158.27885838  125.25966169  162.79965052  \n",
       "535  113.20479192  156.38874353  123.67946985  162.64373143  \n",
       "536  111.17620439  154.47273840  123.00357465  160.31842522  \n",
       "\n",
       "[537 rows x 9 columns]"
      ]
     },
     "execution_count": 445,
     "metadata": {},
     "output_type": "execute_result"
    }
   ],
   "source": [
    "import warnings\n",
    "warnings.filterwarnings('ignore')\n",
    "for i in range(1, len(indexes)):\n",
    "    for column in columns[1:]:\n",
    "        indexes[column].iloc[i] = indexes[column].iloc[i - 1]*(indexes[column].iloc[i] + 1)\n",
    "indexes"
   ]
  },
  {
   "attachments": {},
   "cell_type": "markdown",
   "metadata": {},
   "source": [
    "Часть EDA уже выполнил мой коллега. Давайте сразу посмотрим насколько точно библиотека prophet предскажет индексы в последние 120 дней, для обучения модели возьмем все дни кроме последних 120"
   ]
  },
  {
   "cell_type": "markdown",
   "metadata": {},
   "source": [
    "Библиотека prophet от Meta(запрещенная в РФ организация)"
   ]
  },
  {
   "cell_type": "code",
   "execution_count": 446,
   "metadata": {},
   "outputs": [],
   "source": [
    "import prophet\n",
    "predictor = prophet.Prophet()"
   ]
  },
  {
   "cell_type": "code",
   "execution_count": 447,
   "metadata": {},
   "outputs": [
    {
     "name": "stderr",
     "output_type": "stream",
     "text": [
      "14:14:55 - cmdstanpy - INFO - Chain [1] start processing\n",
      "14:14:55 - cmdstanpy - INFO - Chain [1] done processing\n"
     ]
    },
    {
     "data": {
      "text/plain": [
       "<prophet.forecaster.Prophet at 0x7f97f230dcc0>"
      ]
     },
     "execution_count": 447,
     "metadata": {},
     "output_type": "execute_result"
    }
   ],
   "source": [
    "days = 120\n",
    "predict_days = 181\n",
    "predictor.fit(df = indexes[['date', 'ISE']][:-days].rename(columns ={'date':'ds','ISE':'y'}))"
   ]
  },
  {
   "cell_type": "code",
   "execution_count": 448,
   "metadata": {},
   "outputs": [],
   "source": [
    "future = predictor.make_future_dataframe(periods=predict_days)\n",
    "forecast = predictor.predict(future)"
   ]
  },
  {
   "cell_type": "code",
   "execution_count": 449,
   "metadata": {},
   "outputs": [],
   "source": [
    "forecast = forecast.rename(columns = {'ds':'date'})"
   ]
  },
  {
   "cell_type": "code",
   "execution_count": 450,
   "metadata": {},
   "outputs": [
    {
     "data": {
      "text/plain": [
       "date       datetime64[ns]\n",
       "ISE               float64\n",
       "SP                float64\n",
       "DAX               float64\n",
       "FTSE              float64\n",
       "NIKKEI            float64\n",
       "BOVESPA           float64\n",
       "EU                float64\n",
       "EM                float64\n",
       "dtype: object"
      ]
     },
     "execution_count": 450,
     "metadata": {},
     "output_type": "execute_result"
    }
   ],
   "source": [
    "indexes.dtypes"
   ]
  },
  {
   "cell_type": "code",
   "execution_count": 451,
   "metadata": {},
   "outputs": [],
   "source": [
    "total = pd.merge(forecast, indexes, on = 'date', how = 'inner').dropna()\n",
    "forecast = total[['date', 'yhat']]\n",
    "forecast = forecast.rename(columns = {'date':'ds'})"
   ]
  },
  {
   "cell_type": "markdown",
   "metadata": {},
   "source": [
    "Посчитаем относительную абсолютную ошибку"
   ]
  },
  {
   "cell_type": "code",
   "execution_count": 452,
   "metadata": {},
   "outputs": [
    {
     "data": {
      "text/plain": [
       "10.058158987487342"
      ]
     },
     "execution_count": 452,
     "metadata": {},
     "output_type": "execute_result"
    }
   ],
   "source": [
    "import numpy as np\n",
    "# forecast[-days:]\n",
    "100*np.mean(abs(indexes[\"ISE\"][-days:] - forecast['yhat'][-days:])/indexes[\"ISE\"][-days:])"
   ]
  },
  {
   "cell_type": "markdown",
   "metadata": {},
   "source": [
    "Мы достаточно точно предсказали цену акции, но на самом это не говорит нам о многом, давайте посчитаем как часто мы угадываем вырастет акция в этот день или нет"
   ]
  },
  {
   "cell_type": "code",
   "execution_count": 453,
   "metadata": {},
   "outputs": [
    {
     "data": {
      "text/plain": [
       "52.5"
      ]
     },
     "execution_count": 453,
     "metadata": {},
     "output_type": "execute_result"
    }
   ],
   "source": [
    "predict_dynamic = (forecast[-days:].reset_index().yhat - forecast[-days - 1:].reset_index().yhat).drop(index = days)\n",
    "dynamic = (indexes[-days:].reset_index()['ISE'] - indexes[-days - 1:].reset_index()['ISE']).drop(index = days)\n",
    "100*np.mean((((dynamic > 0) & (predict_dynamic > 0)) | ((dynamic < 0) & (predict_dynamic < 0))).apply(lambda x: int(x)))"
   ]
  },
  {
   "cell_type": "markdown",
   "metadata": {},
   "source": [
    "Не очень точное предсказание, давайте попробуем сгрупировать по неделям"
   ]
  },
  {
   "cell_type": "code",
   "execution_count": 454,
   "metadata": {},
   "outputs": [
    {
     "data": {
      "text/plain": [
       "45.83333333333333"
      ]
     },
     "execution_count": 454,
     "metadata": {},
     "output_type": "execute_result"
    }
   ],
   "source": [
    "predict_dynamic = (forecast[-days::5].reset_index().yhat - forecast[-days - 5::5].reset_index().yhat).drop(index=24)\n",
    "dynamic = (indexes[-days::5].reset_index()['ISE'] - indexes[-days - 5::5].reset_index()['ISE']).drop(index=24)\n",
    "100*np.mean((((dynamic > 0) & (predict_dynamic > 0)) | ((dynamic < 0) & (predict_dynamic < 0))).apply(lambda x: int(x)))"
   ]
  },
  {
   "cell_type": "markdown",
   "metadata": {},
   "source": [
    "Давайте посчитаем и для других колонок"
   ]
  },
  {
   "cell_type": "code",
   "execution_count": 455,
   "metadata": {},
   "outputs": [
    {
     "name": "stderr",
     "output_type": "stream",
     "text": [
      "14:14:55 - cmdstanpy - INFO - Chain [1] start processing\n",
      "14:14:56 - cmdstanpy - INFO - Chain [1] done processing\n",
      "14:14:56 - cmdstanpy - INFO - Chain [1] start processing\n",
      "14:14:56 - cmdstanpy - INFO - Chain [1] done processing\n",
      "14:14:56 - cmdstanpy - INFO - Chain [1] start processing\n"
     ]
    },
    {
     "name": "stdout",
     "output_type": "stream",
     "text": [
      "SP\n",
      "46.666666666666664\n",
      "DAX\n",
      "48.333333333333336\n"
     ]
    },
    {
     "name": "stderr",
     "output_type": "stream",
     "text": [
      "14:14:56 - cmdstanpy - INFO - Chain [1] done processing\n",
      "14:14:56 - cmdstanpy - INFO - Chain [1] start processing\n",
      "14:14:56 - cmdstanpy - INFO - Chain [1] done processing\n",
      "14:14:56 - cmdstanpy - INFO - Chain [1] start processing\n"
     ]
    },
    {
     "name": "stdout",
     "output_type": "stream",
     "text": [
      "FTSE\n",
      "55.00000000000001\n",
      "NIKKEI\n",
      "50.0\n"
     ]
    },
    {
     "name": "stderr",
     "output_type": "stream",
     "text": [
      "14:14:56 - cmdstanpy - INFO - Chain [1] done processing\n",
      "14:14:56 - cmdstanpy - INFO - Chain [1] start processing\n",
      "14:14:56 - cmdstanpy - INFO - Chain [1] done processing\n",
      "14:14:56 - cmdstanpy - INFO - Chain [1] start processing\n"
     ]
    },
    {
     "name": "stdout",
     "output_type": "stream",
     "text": [
      "BOVESPA\n",
      "57.49999999999999\n",
      "EU\n",
      "52.5\n"
     ]
    },
    {
     "name": "stderr",
     "output_type": "stream",
     "text": [
      "14:14:57 - cmdstanpy - INFO - Chain [1] done processing\n"
     ]
    },
    {
     "name": "stdout",
     "output_type": "stream",
     "text": [
      "EM\n",
      "52.5\n"
     ]
    }
   ],
   "source": [
    "for column in indexes.columns[2:]:\n",
    "    predictor = prophet.Prophet()\n",
    "    days = 120\n",
    "    predict_days = 181\n",
    "    predictor.fit(df = indexes.reset_index()[['date', column]][:-days].rename(columns ={'date':'ds',column:'y'}))\n",
    "    future = predictor.make_future_dataframe(periods=predict_days)\n",
    "    forecast = predictor.predict(future)\n",
    "    forecast = forecast.rename(columns = {'ds':'date'})\n",
    "    total = pd.merge(forecast, indexes, on = 'date', how = 'inner').dropna()\n",
    "    forecast = total[['date', 'yhat']]\n",
    "    forecast = forecast.rename(columns = {'date':'ds'})\n",
    "    indexes = indexes.reset_index().drop(columns=['index'])\n",
    "    last_60_dynamic = (indexes[-days:].reset_index() - indexes[-days - 1:].reset_index()).drop(index = days)[column]\n",
    "    last_60_dynamic_predict = (forecast.yhat[-days:].reset_index()-forecast.yhat[-days - 1:].reset_index()).drop(index = days)['yhat']\n",
    "    print(column)\n",
    "    print(100*np.mean((((last_60_dynamic_predict >= 0) & (last_60_dynamic >= 0)) | ((last_60_dynamic_predict <= 0) & (last_60_dynamic <= 0))).apply(lambda x: int(x))))"
   ]
  },
  {
   "cell_type": "markdown",
   "metadata": {},
   "source": [
    "Безобразие...Давайте снова попробуем агрегировать по неделям"
   ]
  },
  {
   "cell_type": "code",
   "execution_count": 456,
   "metadata": {},
   "outputs": [
    {
     "name": "stderr",
     "output_type": "stream",
     "text": [
      "14:14:57 - cmdstanpy - INFO - Chain [1] start processing\n",
      "14:14:57 - cmdstanpy - INFO - Chain [1] done processing\n"
     ]
    },
    {
     "name": "stdout",
     "output_type": "stream",
     "text": [
      "SP\n",
      "20.0\n"
     ]
    },
    {
     "name": "stderr",
     "output_type": "stream",
     "text": [
      "14:14:57 - cmdstanpy - INFO - Chain [1] start processing\n",
      "14:14:57 - cmdstanpy - INFO - Chain [1] done processing\n",
      "14:14:57 - cmdstanpy - INFO - Chain [1] start processing\n"
     ]
    },
    {
     "name": "stdout",
     "output_type": "stream",
     "text": [
      "DAX\n",
      "64.0\n"
     ]
    },
    {
     "name": "stderr",
     "output_type": "stream",
     "text": [
      "14:14:57 - cmdstanpy - INFO - Chain [1] done processing\n",
      "14:14:57 - cmdstanpy - INFO - Chain [1] start processing\n"
     ]
    },
    {
     "name": "stdout",
     "output_type": "stream",
     "text": [
      "FTSE\n",
      "24.0\n"
     ]
    },
    {
     "name": "stderr",
     "output_type": "stream",
     "text": [
      "14:14:57 - cmdstanpy - INFO - Chain [1] done processing\n",
      "14:14:57 - cmdstanpy - INFO - Chain [1] start processing\n",
      "14:14:57 - cmdstanpy - INFO - Chain [1] done processing\n",
      "14:14:58 - cmdstanpy - INFO - Chain [1] start processing\n"
     ]
    },
    {
     "name": "stdout",
     "output_type": "stream",
     "text": [
      "NIKKEI\n",
      "32.0\n",
      "BOVESPA\n",
      "44.0\n"
     ]
    },
    {
     "name": "stderr",
     "output_type": "stream",
     "text": [
      "14:14:58 - cmdstanpy - INFO - Chain [1] done processing\n",
      "14:14:58 - cmdstanpy - INFO - Chain [1] start processing\n",
      "14:14:58 - cmdstanpy - INFO - Chain [1] done processing\n"
     ]
    },
    {
     "name": "stdout",
     "output_type": "stream",
     "text": [
      "EU\n",
      "32.0\n",
      "EM\n",
      "36.0\n"
     ]
    }
   ],
   "source": [
    "for column in indexes.columns[2:]:\n",
    "    predictor = prophet.Prophet()\n",
    "    days = 120\n",
    "    predict_days = 181\n",
    "    predictor.fit(df = indexes.reset_index()[['date', column]][:-days].rename(columns ={'date':'ds',column:'y'}))\n",
    "    future = predictor.make_future_dataframe(periods=predict_days)\n",
    "    forecast = predictor.predict(future)\n",
    "    forecast = forecast.rename(columns = {'ds':'date'})\n",
    "    total = pd.merge(forecast, indexes, on = 'date', how = 'inner').dropna()\n",
    "    forecast = total[['date', 'yhat']]\n",
    "    forecast = forecast.rename(columns = {'date':'ds'})\n",
    "    indexes = indexes.reset_index().drop(columns=['index'])\n",
    "    last_60_dynamic = (indexes[-days::5].reset_index() - indexes[-days - 5::5].reset_index())[column]\n",
    "    last_60_dynamic_predict = (forecast.yhat[-days::5].reset_index()-forecast.yhat[-days - 5::5].reset_index())['yhat']\n",
    "    print(column)\n",
    "    print(100*np.mean((((last_60_dynamic_predict >= 0) & (last_60_dynamic >= 0)) | ((last_60_dynamic_predict <= 0) & (last_60_dynamic <= 0))).apply(lambda x: int(x))))"
   ]
  },
  {
   "cell_type": "markdown",
   "metadata": {},
   "source": [
    "Тем не менее давайте посмотрим на конечное значение индексов"
   ]
  },
  {
   "cell_type": "code",
   "execution_count": 457,
   "metadata": {},
   "outputs": [
    {
     "name": "stderr",
     "output_type": "stream",
     "text": [
      "14:14:58 - cmdstanpy - INFO - Chain [1] start processing\n",
      "14:14:58 - cmdstanpy - INFO - Chain [1] done processing\n",
      "14:14:58 - cmdstanpy - INFO - Chain [1] start processing\n",
      "14:14:58 - cmdstanpy - INFO - Chain [1] done processing\n",
      "14:14:58 - cmdstanpy - INFO - Chain [1] start processing\n"
     ]
    },
    {
     "name": "stdout",
     "output_type": "stream",
     "text": [
      "ISE\n",
      "мы предсказали 204.68882859713597 на самом деле: 203.8299222461267\n",
      "SP\n",
      "мы предсказали 93.5587813034208 на самом деле: 133.85145128890417\n"
     ]
    },
    {
     "name": "stderr",
     "output_type": "stream",
     "text": [
      "14:14:58 - cmdstanpy - INFO - Chain [1] done processing\n",
      "14:14:58 - cmdstanpy - INFO - Chain [1] start processing\n",
      "14:14:58 - cmdstanpy - INFO - Chain [1] done processing\n"
     ]
    },
    {
     "name": "stdout",
     "output_type": "stream",
     "text": [
      "DAX\n",
      "мы предсказали 119.30064806852987 на самом деле: 139.02929377224285\n",
      "FTSE\n",
      "мы предсказали 93.85189515060304 на самом деле: 125.93071212556148\n"
     ]
    },
    {
     "name": "stderr",
     "output_type": "stream",
     "text": [
      "14:14:59 - cmdstanpy - INFO - Chain [1] start processing\n",
      "14:14:59 - cmdstanpy - INFO - Chain [1] done processing\n",
      "14:14:59 - cmdstanpy - INFO - Chain [1] start processing\n",
      "14:14:59 - cmdstanpy - INFO - Chain [1] done processing\n",
      "14:14:59 - cmdstanpy - INFO - Chain [1] start processing\n"
     ]
    },
    {
     "name": "stdout",
     "output_type": "stream",
     "text": [
      "NIKKEI\n",
      "мы предсказали 68.00965393246082 на самом деле: 111.17620439044165\n",
      "BOVESPA\n",
      "мы предсказали 138.28347110622477 на самом деле: 154.47273839507542\n"
     ]
    },
    {
     "name": "stderr",
     "output_type": "stream",
     "text": [
      "14:14:59 - cmdstanpy - INFO - Chain [1] done processing\n",
      "14:14:59 - cmdstanpy - INFO - Chain [1] start processing\n",
      "14:14:59 - cmdstanpy - INFO - Chain [1] done processing\n"
     ]
    },
    {
     "name": "stdout",
     "output_type": "stream",
     "text": [
      "EU\n",
      "мы предсказали 96.39335556739866 на самом деле: 123.00357465499603\n",
      "EM\n",
      "мы предсказали 144.8584420892325 на самом деле: 160.31842522457436\n"
     ]
    }
   ],
   "source": [
    "for column in indexes.columns[1:]:\n",
    "    predictor = prophet.Prophet()\n",
    "    days = 120\n",
    "    predict_days = 181\n",
    "    predictor.fit(df = indexes.reset_index()[['date', column]][:-days].rename(columns ={'date':'ds',column:'y'}))\n",
    "    future = predictor.make_future_dataframe(periods=predict_days)\n",
    "    forecast = predictor.predict(future)\n",
    "    forecast = forecast.rename(columns = {'ds':'date'})\n",
    "    total = pd.merge(forecast, indexes, on = 'date', how = 'inner').dropna()\n",
    "    forecast = total[['date', 'yhat']]\n",
    "    forecast = forecast.rename(columns = {'date':'ds'})\n",
    "    print(column)\n",
    "    print(f'мы предсказали {forecast.yhat.iloc[536]} на самом деле: {indexes[column].iloc[536]}')"
   ]
  },
  {
   "cell_type": "markdown",
   "metadata": {},
   "source": [
    "Наиболее удачно получилось построить 'ISE', давайте построим для него график"
   ]
  },
  {
   "cell_type": "code",
   "execution_count": 458,
   "metadata": {},
   "outputs": [
    {
     "name": "stderr",
     "output_type": "stream",
     "text": [
      "14:14:59 - cmdstanpy - INFO - Chain [1] start processing\n",
      "14:14:59 - cmdstanpy - INFO - Chain [1] done processing\n"
     ]
    },
    {
     "data": {
      "application/vnd.plotly.v1+json": {
       "config": {
        "plotlyServerURL": "https://plot.ly"
       },
       "data": [
        {
         "type": "scatter",
         "x": [
          "2010-08-26T00:00:00",
          "2010-08-27T00:00:00",
          "2010-08-31T00:00:00",
          "2010-09-01T00:00:00",
          "2010-09-02T00:00:00",
          "2010-09-03T00:00:00",
          "2010-09-06T00:00:00",
          "2010-09-07T00:00:00",
          "2010-09-08T00:00:00",
          "2010-09-13T00:00:00",
          "2010-09-14T00:00:00",
          "2010-09-15T00:00:00",
          "2010-09-16T00:00:00",
          "2010-09-17T00:00:00",
          "2010-09-20T00:00:00",
          "2010-09-21T00:00:00",
          "2010-09-22T00:00:00",
          "2010-09-23T00:00:00",
          "2010-09-24T00:00:00",
          "2010-09-27T00:00:00",
          "2010-09-28T00:00:00",
          "2010-09-29T00:00:00",
          "2010-09-30T00:00:00",
          "2010-10-01T00:00:00",
          "2010-10-04T00:00:00",
          "2010-10-05T00:00:00",
          "2010-10-06T00:00:00",
          "2010-10-07T00:00:00",
          "2010-10-08T00:00:00",
          "2010-10-11T00:00:00",
          "2010-10-12T00:00:00",
          "2010-10-13T00:00:00",
          "2010-10-14T00:00:00",
          "2010-10-15T00:00:00",
          "2010-10-18T00:00:00",
          "2010-10-19T00:00:00",
          "2010-10-20T00:00:00",
          "2010-10-21T00:00:00",
          "2010-10-22T00:00:00",
          "2010-10-25T00:00:00",
          "2010-10-26T00:00:00",
          "2010-10-27T00:00:00",
          "2010-11-01T00:00:00",
          "2010-11-02T00:00:00",
          "2010-11-03T00:00:00",
          "2010-11-04T00:00:00",
          "2010-11-05T00:00:00",
          "2010-11-08T00:00:00",
          "2010-11-09T00:00:00",
          "2010-11-10T00:00:00",
          "2010-11-11T00:00:00",
          "2010-11-12T00:00:00",
          "2010-11-15T00:00:00",
          "2010-11-22T00:00:00",
          "2010-11-23T00:00:00",
          "2010-11-24T00:00:00",
          "2010-11-25T00:00:00",
          "2010-11-26T00:00:00",
          "2010-11-29T00:00:00",
          "2010-11-30T00:00:00",
          "2010-12-01T00:00:00",
          "2010-12-02T00:00:00",
          "2010-12-03T00:00:00",
          "2010-12-06T00:00:00",
          "2010-12-07T00:00:00",
          "2010-12-08T00:00:00",
          "2010-12-09T00:00:00",
          "2010-12-10T00:00:00",
          "2010-12-13T00:00:00",
          "2010-12-14T00:00:00",
          "2010-12-15T00:00:00",
          "2010-12-16T00:00:00",
          "2010-12-17T00:00:00",
          "2010-12-20T00:00:00",
          "2010-12-21T00:00:00",
          "2010-12-22T00:00:00",
          "2010-12-23T00:00:00",
          "2010-12-24T00:00:00",
          "2010-12-27T00:00:00",
          "2010-12-28T00:00:00",
          "2010-12-29T00:00:00",
          "2010-12-30T00:00:00",
          "2010-12-31T00:00:00",
          "2011-01-03T00:00:00",
          "2011-01-04T00:00:00",
          "2011-01-05T00:00:00",
          "2011-01-06T00:00:00",
          "2011-01-07T00:00:00",
          "2011-01-10T00:00:00",
          "2011-01-11T00:00:00",
          "2011-01-12T00:00:00",
          "2011-01-13T00:00:00",
          "2011-01-14T00:00:00",
          "2011-01-17T00:00:00",
          "2011-01-18T00:00:00",
          "2011-01-19T00:00:00",
          "2011-01-20T00:00:00",
          "2011-01-21T00:00:00",
          "2011-01-24T00:00:00",
          "2011-01-25T00:00:00",
          "2011-01-26T00:00:00",
          "2011-01-27T00:00:00",
          "2011-01-28T00:00:00",
          "2011-01-31T00:00:00",
          "2011-02-01T00:00:00",
          "2011-02-02T00:00:00",
          "2011-02-03T00:00:00",
          "2011-02-04T00:00:00",
          "2011-02-07T00:00:00",
          "2011-02-08T00:00:00",
          "2011-02-09T00:00:00",
          "2011-02-10T00:00:00",
          "2011-02-11T00:00:00",
          "2011-02-14T00:00:00",
          "2011-02-15T00:00:00",
          "2011-02-16T00:00:00",
          "2011-02-17T00:00:00",
          "2011-02-18T00:00:00",
          "2011-02-21T00:00:00",
          "2011-02-22T00:00:00"
         ],
         "y": [
          198.65690396530456,
          199.8196577234813,
          201.18091375560886,
          204.27424674026273,
          206.24711761011633,
          207.50816590518806,
          208.65948263204714,
          206.10896557965464,
          205.63807955587893,
          213.20403381515646,
          213.40788138994762,
          217.39846984340886,
          218.74899740053644,
          218.6036771915873,
          220.04724428081983,
          220.1189917850538,
          222.4033941658448,
          220.87113708560344,
          221.38244647920908,
          224.21168138061128,
          227.78617252363478,
          230.10582959473663,
          232.12824192665377,
          229.6684852616918,
          231.56146022892665,
          234.18033096139214,
          240.6423454005807,
          240.85558556146816,
          240.90279421966054,
          250.00772399969318,
          250.1011938874495,
          254.02382177887486,
          252.9750790961605,
          254.92007672691594,
          252.84477748068366,
          250.89891416172085,
          248.05704864922328,
          253.53815986198887,
          253.99358792316735,
          256.15786093602094,
          254.51795726599025,
          243.64100612132134,
          247.15737272796073,
          246.83441441343345,
          248.5719912041352,
          259.17863065183707,
          258.0449527382875,
          256.56528943344233,
          258.752056970953,
          254.45611145497753,
          251.4339214607723,
          247.07491062937194,
          248.6509671408641,
          239.79085386719288,
          230.7888431216152,
          230.68530016872637,
          231.5007058060858,
          226.0300975796363,
          218.16889691061098,
          220.60787682322174,
          224.8317022976737,
          228.64327437155788,
          229.58137577655003,
          231.9590366722681,
          233.85122024585462,
          230.93687092785294,
          223.580854943769,
          219.0891810771392,
          223.9503894473334,
          225.00056403967582,
          218.99231277797094,
          214.6910451250902,
          211.04445417509118,
          207.3740384617034,
          211.15182026063331,
          213.72294439548,
          216.38997186001967,
          217.3059434700341,
          217.4437154381941,
          217.53903884905532,
          216.32478509802266,
          218.15024136442275,
          216.65349139784803,
          220.44827956012927,
          222.88370176891496,
          225.50931880421385,
          227.05410725007286,
          222.79574220787617,
          216.93071781684876,
          217.32005791047274,
          219.28985799869622,
          222.86375375693748,
          221.816243301344,
          218.40743737552944,
          219.40764013199149,
          218.70355947895445,
          211.7812287735368,
          211.67304393309874,
          210.1011061438984,
          211.07569058940726,
          212.21642847378,
          209.03818717113887,
          200.96952929181845,
          199.18431033112475,
          206.20691510974044,
          209.14301784018798,
          203.31834547445138,
          206.15651241219365,
          207.91974597332577,
          209.3514202156928,
          208.67000855857535,
          203.4698263259505,
          204.77574043467223,
          204.8585750885384,
          205.04145684540856,
          207.78899145290845,
          211.10887835051685,
          210.75999939593703,
          207.8713253733363,
          203.8299222461267
         ]
        },
        {
         "type": "scatter",
         "x": [
          "2010-08-26T00:00:00",
          "2010-08-27T00:00:00",
          "2010-08-31T00:00:00",
          "2010-09-01T00:00:00",
          "2010-09-02T00:00:00",
          "2010-09-03T00:00:00",
          "2010-09-06T00:00:00",
          "2010-09-07T00:00:00",
          "2010-09-08T00:00:00",
          "2010-09-13T00:00:00",
          "2010-09-14T00:00:00",
          "2010-09-15T00:00:00",
          "2010-09-16T00:00:00",
          "2010-09-17T00:00:00",
          "2010-09-20T00:00:00",
          "2010-09-21T00:00:00",
          "2010-09-22T00:00:00",
          "2010-09-23T00:00:00",
          "2010-09-24T00:00:00",
          "2010-09-27T00:00:00",
          "2010-09-28T00:00:00",
          "2010-09-29T00:00:00",
          "2010-09-30T00:00:00",
          "2010-10-01T00:00:00",
          "2010-10-04T00:00:00",
          "2010-10-05T00:00:00",
          "2010-10-06T00:00:00",
          "2010-10-07T00:00:00",
          "2010-10-08T00:00:00",
          "2010-10-11T00:00:00",
          "2010-10-12T00:00:00",
          "2010-10-13T00:00:00",
          "2010-10-14T00:00:00",
          "2010-10-15T00:00:00",
          "2010-10-18T00:00:00",
          "2010-10-19T00:00:00",
          "2010-10-20T00:00:00",
          "2010-10-21T00:00:00",
          "2010-10-22T00:00:00",
          "2010-10-25T00:00:00",
          "2010-10-26T00:00:00",
          "2010-10-27T00:00:00",
          "2010-11-01T00:00:00",
          "2010-11-02T00:00:00",
          "2010-11-03T00:00:00",
          "2010-11-04T00:00:00",
          "2010-11-05T00:00:00",
          "2010-11-08T00:00:00",
          "2010-11-09T00:00:00",
          "2010-11-10T00:00:00",
          "2010-11-11T00:00:00",
          "2010-11-12T00:00:00",
          "2010-11-15T00:00:00",
          "2010-11-22T00:00:00",
          "2010-11-23T00:00:00",
          "2010-11-24T00:00:00",
          "2010-11-25T00:00:00",
          "2010-11-26T00:00:00",
          "2010-11-29T00:00:00",
          "2010-11-30T00:00:00",
          "2010-12-01T00:00:00",
          "2010-12-02T00:00:00",
          "2010-12-03T00:00:00",
          "2010-12-06T00:00:00",
          "2010-12-07T00:00:00",
          "2010-12-08T00:00:00",
          "2010-12-09T00:00:00",
          "2010-12-10T00:00:00",
          "2010-12-13T00:00:00",
          "2010-12-14T00:00:00",
          "2010-12-15T00:00:00",
          "2010-12-16T00:00:00",
          "2010-12-17T00:00:00",
          "2010-12-20T00:00:00",
          "2010-12-21T00:00:00",
          "2010-12-22T00:00:00",
          "2010-12-23T00:00:00",
          "2010-12-24T00:00:00",
          "2010-12-27T00:00:00",
          "2010-12-28T00:00:00",
          "2010-12-29T00:00:00",
          "2010-12-30T00:00:00",
          "2010-12-31T00:00:00",
          "2011-01-03T00:00:00",
          "2011-01-04T00:00:00",
          "2011-01-05T00:00:00",
          "2011-01-06T00:00:00",
          "2011-01-07T00:00:00",
          "2011-01-10T00:00:00",
          "2011-01-11T00:00:00",
          "2011-01-12T00:00:00",
          "2011-01-13T00:00:00",
          "2011-01-14T00:00:00",
          "2011-01-17T00:00:00",
          "2011-01-18T00:00:00",
          "2011-01-19T00:00:00",
          "2011-01-20T00:00:00",
          "2011-01-21T00:00:00",
          "2011-01-24T00:00:00",
          "2011-01-25T00:00:00",
          "2011-01-26T00:00:00",
          "2011-01-27T00:00:00",
          "2011-01-28T00:00:00",
          "2011-01-31T00:00:00",
          "2011-02-01T00:00:00",
          "2011-02-02T00:00:00",
          "2011-02-03T00:00:00",
          "2011-02-04T00:00:00",
          "2011-02-07T00:00:00",
          "2011-02-08T00:00:00",
          "2011-02-09T00:00:00",
          "2011-02-10T00:00:00",
          "2011-02-11T00:00:00",
          "2011-02-14T00:00:00",
          "2011-02-15T00:00:00",
          "2011-02-16T00:00:00",
          "2011-02-17T00:00:00",
          "2011-02-18T00:00:00",
          "2011-02-21T00:00:00",
          "2011-02-22T00:00:00"
         ],
         "y": [
          196.7901556203289,
          196.0447251972725,
          196.0871556473298,
          196.69728815346983,
          197.134222538316,
          196.3887921152591,
          197.11070982470673,
          196.43122256531558,
          197.0413550714742,
          197.4547767426916,
          196.77528948330837,
          197.38542198946175,
          197.8223563742903,
          197.0769259512343,
          197.79884366067645,
          197.11935640129786,
          197.729488907445,
          198.1664232922965,
          197.42099286923553,
          198.14291057866134,
          197.46342331929065,
          198.07355582544093,
          198.51049021027197,
          197.7650597872347,
          198.48697749666798,
          197.80749023728376,
          198.41762274342844,
          198.85455712827076,
          198.10912670522333,
          198.83104441467043,
          198.15155715527678,
          198.76168966143285,
          199.19862404627702,
          198.45319362320993,
          199.17511133265737,
          198.49562407326604,
          199.1057565794161,
          199.54269096426412,
          198.7972605412091,
          199.51917825065982,
          198.83969099126264,
          199.44982349741204,
          199.86324516864678,
          199.1837579092557,
          199.79389041540801,
          200.23082480024163,
          199.48539437719688,
          200.20731208663372,
          199.5278248272523,
          200.1379573333997,
          200.5748917182404,
          199.8294612951835,
          200.55137900463617,
          200.8954459226231,
          200.21595866323457,
          200.8260911693873,
          201.2630255542263,
          200.5175951311713,
          201.23951284060797,
          200.5600255812312,
          201.17015808737057,
          201.6070924722209,
          200.86166204915793,
          201.58357975859494,
          200.90409249921692,
          201.51422500537498,
          201.95115939020803,
          201.20572896715709,
          201.92764667659947,
          201.24815941721351,
          201.85829192336251,
          202.29522630819514,
          201.5497958851437,
          202.27171359458436,
          201.59222633519926,
          202.20235884135843,
          202.63929322620137,
          201.89386280313232,
          202.61578051256924,
          201.93629325319202,
          202.5464257593417,
          202.98336014417683,
          202.23792972113148,
          202.95984743057585,
          202.2803601711851,
          202.8904926773292,
          203.3274270621756,
          202.5819966391327,
          203.3039143485586,
          202.62442708917817,
          203.2345595953336,
          203.67149398016275,
          202.92606355710876,
          203.64798126654557,
          202.96849400717124,
          203.57862651331683,
          204.01556089816899,
          203.27013047510795,
          203.9920481845677,
          203.312560925164,
          203.9226934313128,
          204.35962781616774,
          203.61419739309454,
          204.33611510255466,
          203.65662784315708,
          204.26676034930875,
          204.703694734139,
          203.95826431109577,
          204.6801820205395,
          204.00069476115365,
          204.61082726730473,
          205.0477616521336,
          204.30233122908234,
          205.02424893852435,
          204.3447616791394,
          204.95489418528797,
          205.3918285701324,
          204.64639814708153,
          205.3683158565289,
          204.68882859713597
         ]
        }
       ],
       "layout": {
        "template": {
         "data": {
          "bar": [
           {
            "error_x": {
             "color": "#2a3f5f"
            },
            "error_y": {
             "color": "#2a3f5f"
            },
            "marker": {
             "line": {
              "color": "#E5ECF6",
              "width": 0.5
             },
             "pattern": {
              "fillmode": "overlay",
              "size": 10,
              "solidity": 0.2
             }
            },
            "type": "bar"
           }
          ],
          "barpolar": [
           {
            "marker": {
             "line": {
              "color": "#E5ECF6",
              "width": 0.5
             },
             "pattern": {
              "fillmode": "overlay",
              "size": 10,
              "solidity": 0.2
             }
            },
            "type": "barpolar"
           }
          ],
          "carpet": [
           {
            "aaxis": {
             "endlinecolor": "#2a3f5f",
             "gridcolor": "white",
             "linecolor": "white",
             "minorgridcolor": "white",
             "startlinecolor": "#2a3f5f"
            },
            "baxis": {
             "endlinecolor": "#2a3f5f",
             "gridcolor": "white",
             "linecolor": "white",
             "minorgridcolor": "white",
             "startlinecolor": "#2a3f5f"
            },
            "type": "carpet"
           }
          ],
          "choropleth": [
           {
            "colorbar": {
             "outlinewidth": 0,
             "ticks": ""
            },
            "type": "choropleth"
           }
          ],
          "contour": [
           {
            "colorbar": {
             "outlinewidth": 0,
             "ticks": ""
            },
            "colorscale": [
             [
              0,
              "#0d0887"
             ],
             [
              0.1111111111111111,
              "#46039f"
             ],
             [
              0.2222222222222222,
              "#7201a8"
             ],
             [
              0.3333333333333333,
              "#9c179e"
             ],
             [
              0.4444444444444444,
              "#bd3786"
             ],
             [
              0.5555555555555556,
              "#d8576b"
             ],
             [
              0.6666666666666666,
              "#ed7953"
             ],
             [
              0.7777777777777778,
              "#fb9f3a"
             ],
             [
              0.8888888888888888,
              "#fdca26"
             ],
             [
              1,
              "#f0f921"
             ]
            ],
            "type": "contour"
           }
          ],
          "contourcarpet": [
           {
            "colorbar": {
             "outlinewidth": 0,
             "ticks": ""
            },
            "type": "contourcarpet"
           }
          ],
          "heatmap": [
           {
            "colorbar": {
             "outlinewidth": 0,
             "ticks": ""
            },
            "colorscale": [
             [
              0,
              "#0d0887"
             ],
             [
              0.1111111111111111,
              "#46039f"
             ],
             [
              0.2222222222222222,
              "#7201a8"
             ],
             [
              0.3333333333333333,
              "#9c179e"
             ],
             [
              0.4444444444444444,
              "#bd3786"
             ],
             [
              0.5555555555555556,
              "#d8576b"
             ],
             [
              0.6666666666666666,
              "#ed7953"
             ],
             [
              0.7777777777777778,
              "#fb9f3a"
             ],
             [
              0.8888888888888888,
              "#fdca26"
             ],
             [
              1,
              "#f0f921"
             ]
            ],
            "type": "heatmap"
           }
          ],
          "heatmapgl": [
           {
            "colorbar": {
             "outlinewidth": 0,
             "ticks": ""
            },
            "colorscale": [
             [
              0,
              "#0d0887"
             ],
             [
              0.1111111111111111,
              "#46039f"
             ],
             [
              0.2222222222222222,
              "#7201a8"
             ],
             [
              0.3333333333333333,
              "#9c179e"
             ],
             [
              0.4444444444444444,
              "#bd3786"
             ],
             [
              0.5555555555555556,
              "#d8576b"
             ],
             [
              0.6666666666666666,
              "#ed7953"
             ],
             [
              0.7777777777777778,
              "#fb9f3a"
             ],
             [
              0.8888888888888888,
              "#fdca26"
             ],
             [
              1,
              "#f0f921"
             ]
            ],
            "type": "heatmapgl"
           }
          ],
          "histogram": [
           {
            "marker": {
             "pattern": {
              "fillmode": "overlay",
              "size": 10,
              "solidity": 0.2
             }
            },
            "type": "histogram"
           }
          ],
          "histogram2d": [
           {
            "colorbar": {
             "outlinewidth": 0,
             "ticks": ""
            },
            "colorscale": [
             [
              0,
              "#0d0887"
             ],
             [
              0.1111111111111111,
              "#46039f"
             ],
             [
              0.2222222222222222,
              "#7201a8"
             ],
             [
              0.3333333333333333,
              "#9c179e"
             ],
             [
              0.4444444444444444,
              "#bd3786"
             ],
             [
              0.5555555555555556,
              "#d8576b"
             ],
             [
              0.6666666666666666,
              "#ed7953"
             ],
             [
              0.7777777777777778,
              "#fb9f3a"
             ],
             [
              0.8888888888888888,
              "#fdca26"
             ],
             [
              1,
              "#f0f921"
             ]
            ],
            "type": "histogram2d"
           }
          ],
          "histogram2dcontour": [
           {
            "colorbar": {
             "outlinewidth": 0,
             "ticks": ""
            },
            "colorscale": [
             [
              0,
              "#0d0887"
             ],
             [
              0.1111111111111111,
              "#46039f"
             ],
             [
              0.2222222222222222,
              "#7201a8"
             ],
             [
              0.3333333333333333,
              "#9c179e"
             ],
             [
              0.4444444444444444,
              "#bd3786"
             ],
             [
              0.5555555555555556,
              "#d8576b"
             ],
             [
              0.6666666666666666,
              "#ed7953"
             ],
             [
              0.7777777777777778,
              "#fb9f3a"
             ],
             [
              0.8888888888888888,
              "#fdca26"
             ],
             [
              1,
              "#f0f921"
             ]
            ],
            "type": "histogram2dcontour"
           }
          ],
          "mesh3d": [
           {
            "colorbar": {
             "outlinewidth": 0,
             "ticks": ""
            },
            "type": "mesh3d"
           }
          ],
          "parcoords": [
           {
            "line": {
             "colorbar": {
              "outlinewidth": 0,
              "ticks": ""
             }
            },
            "type": "parcoords"
           }
          ],
          "pie": [
           {
            "automargin": true,
            "type": "pie"
           }
          ],
          "scatter": [
           {
            "fillpattern": {
             "fillmode": "overlay",
             "size": 10,
             "solidity": 0.2
            },
            "type": "scatter"
           }
          ],
          "scatter3d": [
           {
            "line": {
             "colorbar": {
              "outlinewidth": 0,
              "ticks": ""
             }
            },
            "marker": {
             "colorbar": {
              "outlinewidth": 0,
              "ticks": ""
             }
            },
            "type": "scatter3d"
           }
          ],
          "scattercarpet": [
           {
            "marker": {
             "colorbar": {
              "outlinewidth": 0,
              "ticks": ""
             }
            },
            "type": "scattercarpet"
           }
          ],
          "scattergeo": [
           {
            "marker": {
             "colorbar": {
              "outlinewidth": 0,
              "ticks": ""
             }
            },
            "type": "scattergeo"
           }
          ],
          "scattergl": [
           {
            "marker": {
             "colorbar": {
              "outlinewidth": 0,
              "ticks": ""
             }
            },
            "type": "scattergl"
           }
          ],
          "scattermapbox": [
           {
            "marker": {
             "colorbar": {
              "outlinewidth": 0,
              "ticks": ""
             }
            },
            "type": "scattermapbox"
           }
          ],
          "scatterpolar": [
           {
            "marker": {
             "colorbar": {
              "outlinewidth": 0,
              "ticks": ""
             }
            },
            "type": "scatterpolar"
           }
          ],
          "scatterpolargl": [
           {
            "marker": {
             "colorbar": {
              "outlinewidth": 0,
              "ticks": ""
             }
            },
            "type": "scatterpolargl"
           }
          ],
          "scatterternary": [
           {
            "marker": {
             "colorbar": {
              "outlinewidth": 0,
              "ticks": ""
             }
            },
            "type": "scatterternary"
           }
          ],
          "surface": [
           {
            "colorbar": {
             "outlinewidth": 0,
             "ticks": ""
            },
            "colorscale": [
             [
              0,
              "#0d0887"
             ],
             [
              0.1111111111111111,
              "#46039f"
             ],
             [
              0.2222222222222222,
              "#7201a8"
             ],
             [
              0.3333333333333333,
              "#9c179e"
             ],
             [
              0.4444444444444444,
              "#bd3786"
             ],
             [
              0.5555555555555556,
              "#d8576b"
             ],
             [
              0.6666666666666666,
              "#ed7953"
             ],
             [
              0.7777777777777778,
              "#fb9f3a"
             ],
             [
              0.8888888888888888,
              "#fdca26"
             ],
             [
              1,
              "#f0f921"
             ]
            ],
            "type": "surface"
           }
          ],
          "table": [
           {
            "cells": {
             "fill": {
              "color": "#EBF0F8"
             },
             "line": {
              "color": "white"
             }
            },
            "header": {
             "fill": {
              "color": "#C8D4E3"
             },
             "line": {
              "color": "white"
             }
            },
            "type": "table"
           }
          ]
         },
         "layout": {
          "annotationdefaults": {
           "arrowcolor": "#2a3f5f",
           "arrowhead": 0,
           "arrowwidth": 1
          },
          "autotypenumbers": "strict",
          "coloraxis": {
           "colorbar": {
            "outlinewidth": 0,
            "ticks": ""
           }
          },
          "colorscale": {
           "diverging": [
            [
             0,
             "#8e0152"
            ],
            [
             0.1,
             "#c51b7d"
            ],
            [
             0.2,
             "#de77ae"
            ],
            [
             0.3,
             "#f1b6da"
            ],
            [
             0.4,
             "#fde0ef"
            ],
            [
             0.5,
             "#f7f7f7"
            ],
            [
             0.6,
             "#e6f5d0"
            ],
            [
             0.7,
             "#b8e186"
            ],
            [
             0.8,
             "#7fbc41"
            ],
            [
             0.9,
             "#4d9221"
            ],
            [
             1,
             "#276419"
            ]
           ],
           "sequential": [
            [
             0,
             "#0d0887"
            ],
            [
             0.1111111111111111,
             "#46039f"
            ],
            [
             0.2222222222222222,
             "#7201a8"
            ],
            [
             0.3333333333333333,
             "#9c179e"
            ],
            [
             0.4444444444444444,
             "#bd3786"
            ],
            [
             0.5555555555555556,
             "#d8576b"
            ],
            [
             0.6666666666666666,
             "#ed7953"
            ],
            [
             0.7777777777777778,
             "#fb9f3a"
            ],
            [
             0.8888888888888888,
             "#fdca26"
            ],
            [
             1,
             "#f0f921"
            ]
           ],
           "sequentialminus": [
            [
             0,
             "#0d0887"
            ],
            [
             0.1111111111111111,
             "#46039f"
            ],
            [
             0.2222222222222222,
             "#7201a8"
            ],
            [
             0.3333333333333333,
             "#9c179e"
            ],
            [
             0.4444444444444444,
             "#bd3786"
            ],
            [
             0.5555555555555556,
             "#d8576b"
            ],
            [
             0.6666666666666666,
             "#ed7953"
            ],
            [
             0.7777777777777778,
             "#fb9f3a"
            ],
            [
             0.8888888888888888,
             "#fdca26"
            ],
            [
             1,
             "#f0f921"
            ]
           ]
          },
          "colorway": [
           "#636efa",
           "#EF553B",
           "#00cc96",
           "#ab63fa",
           "#FFA15A",
           "#19d3f3",
           "#FF6692",
           "#B6E880",
           "#FF97FF",
           "#FECB52"
          ],
          "font": {
           "color": "#2a3f5f"
          },
          "geo": {
           "bgcolor": "white",
           "lakecolor": "white",
           "landcolor": "#E5ECF6",
           "showlakes": true,
           "showland": true,
           "subunitcolor": "white"
          },
          "hoverlabel": {
           "align": "left"
          },
          "hovermode": "closest",
          "mapbox": {
           "style": "light"
          },
          "paper_bgcolor": "white",
          "plot_bgcolor": "#E5ECF6",
          "polar": {
           "angularaxis": {
            "gridcolor": "white",
            "linecolor": "white",
            "ticks": ""
           },
           "bgcolor": "#E5ECF6",
           "radialaxis": {
            "gridcolor": "white",
            "linecolor": "white",
            "ticks": ""
           }
          },
          "scene": {
           "xaxis": {
            "backgroundcolor": "#E5ECF6",
            "gridcolor": "white",
            "gridwidth": 2,
            "linecolor": "white",
            "showbackground": true,
            "ticks": "",
            "zerolinecolor": "white"
           },
           "yaxis": {
            "backgroundcolor": "#E5ECF6",
            "gridcolor": "white",
            "gridwidth": 2,
            "linecolor": "white",
            "showbackground": true,
            "ticks": "",
            "zerolinecolor": "white"
           },
           "zaxis": {
            "backgroundcolor": "#E5ECF6",
            "gridcolor": "white",
            "gridwidth": 2,
            "linecolor": "white",
            "showbackground": true,
            "ticks": "",
            "zerolinecolor": "white"
           }
          },
          "shapedefaults": {
           "line": {
            "color": "#2a3f5f"
           }
          },
          "ternary": {
           "aaxis": {
            "gridcolor": "white",
            "linecolor": "white",
            "ticks": ""
           },
           "baxis": {
            "gridcolor": "white",
            "linecolor": "white",
            "ticks": ""
           },
           "bgcolor": "#E5ECF6",
           "caxis": {
            "gridcolor": "white",
            "linecolor": "white",
            "ticks": ""
           }
          },
          "title": {
           "x": 0.05
          },
          "xaxis": {
           "automargin": true,
           "gridcolor": "white",
           "linecolor": "white",
           "ticks": "",
           "title": {
            "standoff": 15
           },
           "zerolinecolor": "white",
           "zerolinewidth": 2
          },
          "yaxis": {
           "automargin": true,
           "gridcolor": "white",
           "linecolor": "white",
           "ticks": "",
           "title": {
            "standoff": 15
           },
           "zerolinecolor": "white",
           "zerolinewidth": 2
          }
         }
        }
       }
      }
     },
     "metadata": {},
     "output_type": "display_data"
    },
    {
     "name": "stdout",
     "output_type": "stream",
     "text": [
      "ds      2011-02-22 00:00:00\n",
      "yhat            204.6888286\n",
      "Name: 536, dtype: object\n",
      "date       2011-02-22 00:00:00\n",
      "ISE               203.82992225\n",
      "SP                133.85145129\n",
      "DAX               139.02929377\n",
      "FTSE              125.93071213\n",
      "NIKKEI            111.17620439\n",
      "BOVESPA            154.4727384\n",
      "EU                123.00357465\n",
      "EM                160.31842522\n",
      "Name: 536, dtype: object\n"
     ]
    }
   ],
   "source": [
    "def weekdays(some_date):\n",
    "    if some_date.weekday() == 5 or some_date.weekday() == 6:\n",
    "        return None\n",
    "    return some_date\n",
    "import plotly.graph_objects as go\n",
    "predictor = prophet.Prophet()\n",
    "days = 120\n",
    "predict_days = 181\n",
    "indexes[['date', \"ISE\"]][:-days].rename(columns ={'date':'ds','ISE':'y'})\n",
    "predictor.fit(df = indexes.reset_index()[['date', 'ISE']][:-days].rename(columns ={'date':'ds','ISE':'y'}))\n",
    "future = predictor.make_future_dataframe(periods=predict_days)\n",
    "forecast = predictor.predict(future)\n",
    "forecast = forecast.rename(columns = {'ds':'date'})\n",
    "total = pd.merge(forecast, indexes, on = 'date', how = 'inner').dropna()\n",
    "forecast = total[['date', 'yhat']]\n",
    "forecast = forecast.rename(columns = {'date':'ds'})\n",
    "fig = go.Figure()\n",
    "fig.add_trace(go.Scatter(x = indexes['date'][-days:], y = indexes['ISE'][-days:]))\n",
    "fig.add_trace(go.Scatter(x = forecast['ds'][-days:], y = forecast['yhat'][-days:]))\n",
    "fig.show()\n",
    "print(forecast.iloc[-1])\n",
    "print(indexes.iloc[-1])"
   ]
  },
  {
   "cell_type": "markdown",
   "metadata": {},
   "source": [
    "В целом можно сделать вывод, что prophet больше подходит для больших датасетов и больших горизонтов предсказания, поэтому и предсказание на этом датасете такое неточное"
   ]
  },
  {
   "attachments": {},
   "cell_type": "markdown",
   "metadata": {},
   "source": [
    "### Sktime"
   ]
  },
  {
   "attachments": {},
   "cell_type": "markdown",
   "metadata": {},
   "source": [
    "Сделаем еще одно предсказание с помощью модели ARIMA. Для этого будем использовать библиотеку sktime."
   ]
  },
  {
   "cell_type": "code",
   "execution_count": 459,
   "metadata": {},
   "outputs": [],
   "source": [
    "from sktime.forecasting.arima import AutoARIMA"
   ]
  },
  {
   "cell_type": "code",
   "execution_count": 460,
   "metadata": {},
   "outputs": [],
   "source": [
    "forecaster = AutoARIMA()"
   ]
  },
  {
   "attachments": {},
   "cell_type": "markdown",
   "metadata": {},
   "source": [
    "Как и в случае с первой моделью, в качестве тренировочного датасета возьмем все дни, кроме последних 120."
   ]
  },
  {
   "cell_type": "code",
   "execution_count": 461,
   "metadata": {},
   "outputs": [
    {
     "data": {
      "text/html": [
       "<style>#sk-27586548-28a7-49fc-951b-c3cf22afda09 {color: black;background-color: white;}#sk-27586548-28a7-49fc-951b-c3cf22afda09 pre{padding: 0;}#sk-27586548-28a7-49fc-951b-c3cf22afda09 div.sk-toggleable {background-color: white;}#sk-27586548-28a7-49fc-951b-c3cf22afda09 label.sk-toggleable__label {cursor: pointer;display: block;width: 100%;margin-bottom: 0;padding: 0.3em;box-sizing: border-box;text-align: center;}#sk-27586548-28a7-49fc-951b-c3cf22afda09 label.sk-toggleable__label-arrow:before {content: \"▸\";float: left;margin-right: 0.25em;color: #696969;}#sk-27586548-28a7-49fc-951b-c3cf22afda09 label.sk-toggleable__label-arrow:hover:before {color: black;}#sk-27586548-28a7-49fc-951b-c3cf22afda09 div.sk-estimator:hover label.sk-toggleable__label-arrow:before {color: black;}#sk-27586548-28a7-49fc-951b-c3cf22afda09 div.sk-toggleable__content {max-height: 0;max-width: 0;overflow: hidden;text-align: left;background-color: #f0f8ff;}#sk-27586548-28a7-49fc-951b-c3cf22afda09 div.sk-toggleable__content pre {margin: 0.2em;color: black;border-radius: 0.25em;background-color: #f0f8ff;}#sk-27586548-28a7-49fc-951b-c3cf22afda09 input.sk-toggleable__control:checked~div.sk-toggleable__content {max-height: 200px;max-width: 100%;overflow: auto;}#sk-27586548-28a7-49fc-951b-c3cf22afda09 input.sk-toggleable__control:checked~label.sk-toggleable__label-arrow:before {content: \"▾\";}#sk-27586548-28a7-49fc-951b-c3cf22afda09 div.sk-estimator input.sk-toggleable__control:checked~label.sk-toggleable__label {background-color: #d4ebff;}#sk-27586548-28a7-49fc-951b-c3cf22afda09 div.sk-label input.sk-toggleable__control:checked~label.sk-toggleable__label {background-color: #d4ebff;}#sk-27586548-28a7-49fc-951b-c3cf22afda09 input.sk-hidden--visually {border: 0;clip: rect(1px 1px 1px 1px);clip: rect(1px, 1px, 1px, 1px);height: 1px;margin: -1px;overflow: hidden;padding: 0;position: absolute;width: 1px;}#sk-27586548-28a7-49fc-951b-c3cf22afda09 div.sk-estimator {font-family: monospace;background-color: #f0f8ff;border: 1px dotted black;border-radius: 0.25em;box-sizing: border-box;margin-bottom: 0.5em;}#sk-27586548-28a7-49fc-951b-c3cf22afda09 div.sk-estimator:hover {background-color: #d4ebff;}#sk-27586548-28a7-49fc-951b-c3cf22afda09 div.sk-parallel-item::after {content: \"\";width: 100%;border-bottom: 1px solid gray;flex-grow: 1;}#sk-27586548-28a7-49fc-951b-c3cf22afda09 div.sk-label:hover label.sk-toggleable__label {background-color: #d4ebff;}#sk-27586548-28a7-49fc-951b-c3cf22afda09 div.sk-serial::before {content: \"\";position: absolute;border-left: 1px solid gray;box-sizing: border-box;top: 2em;bottom: 0;left: 50%;}#sk-27586548-28a7-49fc-951b-c3cf22afda09 div.sk-serial {display: flex;flex-direction: column;align-items: center;background-color: white;padding-right: 0.2em;padding-left: 0.2em;}#sk-27586548-28a7-49fc-951b-c3cf22afda09 div.sk-item {z-index: 1;}#sk-27586548-28a7-49fc-951b-c3cf22afda09 div.sk-parallel {display: flex;align-items: stretch;justify-content: center;background-color: white;}#sk-27586548-28a7-49fc-951b-c3cf22afda09 div.sk-parallel::before {content: \"\";position: absolute;border-left: 1px solid gray;box-sizing: border-box;top: 2em;bottom: 0;left: 50%;}#sk-27586548-28a7-49fc-951b-c3cf22afda09 div.sk-parallel-item {display: flex;flex-direction: column;position: relative;background-color: white;}#sk-27586548-28a7-49fc-951b-c3cf22afda09 div.sk-parallel-item:first-child::after {align-self: flex-end;width: 50%;}#sk-27586548-28a7-49fc-951b-c3cf22afda09 div.sk-parallel-item:last-child::after {align-self: flex-start;width: 50%;}#sk-27586548-28a7-49fc-951b-c3cf22afda09 div.sk-parallel-item:only-child::after {width: 0;}#sk-27586548-28a7-49fc-951b-c3cf22afda09 div.sk-dashed-wrapped {border: 1px dashed gray;margin: 0 0.4em 0.5em 0.4em;box-sizing: border-box;padding-bottom: 0.4em;background-color: white;position: relative;}#sk-27586548-28a7-49fc-951b-c3cf22afda09 div.sk-label label {font-family: monospace;font-weight: bold;background-color: white;display: inline-block;line-height: 1.2em;}#sk-27586548-28a7-49fc-951b-c3cf22afda09 div.sk-label-container {position: relative;z-index: 2;text-align: center;}#sk-27586548-28a7-49fc-951b-c3cf22afda09 div.sk-container {/* jupyter's `normalize.less` sets `[hidden] { display: none; }` but bootstrap.min.css set `[hidden] { display: none !important; }` so we also need the `!important` here to be able to override the default hidden behavior on the sphinx rendered scikit-learn.org. See: https://github.com/scikit-learn/scikit-learn/issues/21755 */display: inline-block !important;position: relative;}#sk-27586548-28a7-49fc-951b-c3cf22afda09 div.sk-text-repr-fallback {display: none;}</style><div id='sk-27586548-28a7-49fc-951b-c3cf22afda09' class=\"sk-top-container\"><div class=\"sk-text-repr-fallback\"><pre>AutoARIMA()</pre><b>Please rerun this cell to show the HTML repr or trust the notebook.</b></div><div class=\"sk-container\" hidden><div class='sk-item'><div class=\"sk-estimator sk-toggleable\"><input class=\"sk-toggleable__control sk-hidden--visually\" id=UUID('ef08cad3-cd6b-4fdd-9479-7485f72d6026') type=\"checkbox\" checked><label for=UUID('ef08cad3-cd6b-4fdd-9479-7485f72d6026') class='sk-toggleable__label sk-toggleable__label-arrow'>AutoARIMA</label><div class=\"sk-toggleable__content\"><pre>AutoARIMA()</pre></div></div></div></div></div>"
      ],
      "text/plain": [
       "AutoARIMA()"
      ]
     },
     "execution_count": 461,
     "metadata": {},
     "output_type": "execute_result"
    }
   ],
   "source": [
    "forecaster.fit(indexes[['date', 'ISE']][:-days].rename(columns ={'date':'ds','ISE':'y'}))"
   ]
  },
  {
   "cell_type": "code",
   "execution_count": 462,
   "metadata": {},
   "outputs": [],
   "source": [
    "ise_prediction = forecaster.predict(list(range(1,182)))"
   ]
  },
  {
   "attachments": {},
   "cell_type": "markdown",
   "metadata": {},
   "source": [
    "Приведем ise_prediction в нормальный вид (там что-то страшное с датами случилось)."
   ]
  },
  {
   "cell_type": "code",
   "execution_count": 463,
   "metadata": {},
   "outputs": [],
   "source": [
    "ise_prediction = ise_prediction.reset_index()"
   ]
  },
  {
   "cell_type": "code",
   "execution_count": 464,
   "metadata": {},
   "outputs": [],
   "source": [
    "indexes = indexes.reset_index()"
   ]
  },
  {
   "cell_type": "code",
   "execution_count": 465,
   "metadata": {},
   "outputs": [],
   "source": [
    "ise_prediction = pd.merge(ise_prediction, indexes[['index', 'date', 'ISE']], on = 'index')"
   ]
  },
  {
   "cell_type": "code",
   "execution_count": 466,
   "metadata": {},
   "outputs": [],
   "source": [
    "ise_prediction = ise_prediction.drop(['ds', 'index'], axis = 1).rename(columns = {'y' : 'predicted_ISE'})"
   ]
  },
  {
   "cell_type": "code",
   "execution_count": 467,
   "metadata": {},
   "outputs": [],
   "source": [
    "total = ise_prediction.copy()"
   ]
  },
  {
   "cell_type": "code",
   "execution_count": 468,
   "metadata": {},
   "outputs": [
    {
     "data": {
      "text/html": [
       "<div>\n",
       "<style scoped>\n",
       "    .dataframe tbody tr th:only-of-type {\n",
       "        vertical-align: middle;\n",
       "    }\n",
       "\n",
       "    .dataframe tbody tr th {\n",
       "        vertical-align: top;\n",
       "    }\n",
       "\n",
       "    .dataframe thead th {\n",
       "        text-align: right;\n",
       "    }\n",
       "</style>\n",
       "<table border=\"1\" class=\"dataframe\">\n",
       "  <thead>\n",
       "    <tr style=\"text-align: right;\">\n",
       "      <th></th>\n",
       "      <th>predicted_ISE</th>\n",
       "      <th>date</th>\n",
       "      <th>ISE</th>\n",
       "    </tr>\n",
       "  </thead>\n",
       "  <tbody>\n",
       "    <tr>\n",
       "      <th>0</th>\n",
       "      <td>195.89812332</td>\n",
       "      <td>2010-08-26</td>\n",
       "      <td>198.65690397</td>\n",
       "    </tr>\n",
       "    <tr>\n",
       "      <th>1</th>\n",
       "      <td>196.12809484</td>\n",
       "      <td>2010-08-27</td>\n",
       "      <td>199.81965772</td>\n",
       "    </tr>\n",
       "    <tr>\n",
       "      <th>2</th>\n",
       "      <td>196.35806636</td>\n",
       "      <td>2010-08-31</td>\n",
       "      <td>201.18091376</td>\n",
       "    </tr>\n",
       "    <tr>\n",
       "      <th>3</th>\n",
       "      <td>196.58803788</td>\n",
       "      <td>2010-09-01</td>\n",
       "      <td>204.27424674</td>\n",
       "    </tr>\n",
       "    <tr>\n",
       "      <th>4</th>\n",
       "      <td>196.81800939</td>\n",
       "      <td>2010-09-02</td>\n",
       "      <td>206.24711761</td>\n",
       "    </tr>\n",
       "    <tr>\n",
       "      <th>...</th>\n",
       "      <td>...</td>\n",
       "      <td>...</td>\n",
       "      <td>...</td>\n",
       "    </tr>\n",
       "    <tr>\n",
       "      <th>115</th>\n",
       "      <td>222.34484798</td>\n",
       "      <td>2011-02-16</td>\n",
       "      <td>207.78899145</td>\n",
       "    </tr>\n",
       "    <tr>\n",
       "      <th>116</th>\n",
       "      <td>222.57481949</td>\n",
       "      <td>2011-02-17</td>\n",
       "      <td>211.10887835</td>\n",
       "    </tr>\n",
       "    <tr>\n",
       "      <th>117</th>\n",
       "      <td>222.80479101</td>\n",
       "      <td>2011-02-18</td>\n",
       "      <td>210.75999940</td>\n",
       "    </tr>\n",
       "    <tr>\n",
       "      <th>118</th>\n",
       "      <td>223.03476253</td>\n",
       "      <td>2011-02-21</td>\n",
       "      <td>207.87132537</td>\n",
       "    </tr>\n",
       "    <tr>\n",
       "      <th>119</th>\n",
       "      <td>223.26473405</td>\n",
       "      <td>2011-02-22</td>\n",
       "      <td>203.82992225</td>\n",
       "    </tr>\n",
       "  </tbody>\n",
       "</table>\n",
       "<p>120 rows × 3 columns</p>\n",
       "</div>"
      ],
      "text/plain": [
       "     predicted_ISE       date           ISE\n",
       "0     195.89812332 2010-08-26  198.65690397\n",
       "1     196.12809484 2010-08-27  199.81965772\n",
       "2     196.35806636 2010-08-31  201.18091376\n",
       "3     196.58803788 2010-09-01  204.27424674\n",
       "4     196.81800939 2010-09-02  206.24711761\n",
       "..             ...        ...           ...\n",
       "115   222.34484798 2011-02-16  207.78899145\n",
       "116   222.57481949 2011-02-17  211.10887835\n",
       "117   222.80479101 2011-02-18  210.75999940\n",
       "118   223.03476253 2011-02-21  207.87132537\n",
       "119   223.26473405 2011-02-22  203.82992225\n",
       "\n",
       "[120 rows x 3 columns]"
      ]
     },
     "execution_count": 468,
     "metadata": {},
     "output_type": "execute_result"
    }
   ],
   "source": [
    "total"
   ]
  },
  {
   "attachments": {},
   "cell_type": "markdown",
   "metadata": {},
   "source": [
    "Посчитаем MAPE для предсказанных значений ISE:"
   ]
  },
  {
   "cell_type": "code",
   "execution_count": 469,
   "metadata": {},
   "outputs": [
    {
     "data": {
      "text/plain": [
       "8.633653618212572"
      ]
     },
     "execution_count": 469,
     "metadata": {},
     "output_type": "execute_result"
    }
   ],
   "source": [
    "100 * np.mean(abs(ise_prediction.predicted_ISE - ise_prediction.ISE) / ise_prediction.ISE)"
   ]
  },
  {
   "attachments": {},
   "cell_type": "markdown",
   "metadata": {},
   "source": [
    "Как мы можем видеть, ошибка получилась немного меньше, чем в Prophet модели. Давайте сделаем предсказание оставшихся индексов."
   ]
  },
  {
   "cell_type": "code",
   "execution_count": 470,
   "metadata": {},
   "outputs": [],
   "source": [
    "for column in indexes.columns[3::]:\n",
    "    forecaster = AutoARIMA()\n",
    "    forecaster.fit(indexes[['date', column]][:-days].rename(columns ={'date':'ds',column:'y'}))\n",
    "    prediction = forecaster.predict(list(range(1,182)))\n",
    "    prediction = prediction.reset_index()\n",
    "    prediction = pd.merge(prediction, indexes[['index', 'date', column]], on = 'index')\n",
    "    prediction = prediction.drop(['ds', 'index'], axis = 1).rename(columns = {'y' : 'predicted_' + column})\n",
    "    total = pd.merge(total, prediction[['predicted_' + column, 'date', column]], on = 'date')"
   ]
  },
  {
   "attachments": {},
   "cell_type": "markdown",
   "metadata": {},
   "source": [
    "Теперь посмотрим на MAPE для каждого индекса:"
   ]
  },
  {
   "cell_type": "code",
   "execution_count": 471,
   "metadata": {},
   "outputs": [
    {
     "name": "stdout",
     "output_type": "stream",
     "text": [
      "ISE\n",
      "MAPE:  8.633653618212572\n",
      "\n",
      "SP\n",
      "MAPE:  12.838855616540428\n",
      "\n",
      "DAX\n",
      "MAPE:  12.201202282684486\n",
      "\n",
      "FTSE\n",
      "MAPE:  11.373706975185085\n",
      "\n",
      "NIKKEI\n",
      "MAPE:  10.610014007318936\n",
      "\n",
      "BOVESPA\n",
      "MAPE:  5.574717454290458\n",
      "\n",
      "EU\n",
      "MAPE:  9.866219471028886\n",
      "\n",
      "EM\n",
      "MAPE:  5.461101197922458\n",
      "\n"
     ]
    }
   ],
   "source": [
    "for column in indexes.columns[2::]:\n",
    "    print(column, end='\\n')\n",
    "    print('MAPE: ', 100 * np.mean(abs(total['predicted_' + column] - total[column]) / total[column]), end='\\n\\n')"
   ]
  },
  {
   "attachments": {},
   "cell_type": "markdown",
   "metadata": {},
   "source": [
    "Наименьшая ошибка у ISE, BOVESPA и EM."
   ]
  },
  {
   "cell_type": "code",
   "execution_count": 472,
   "metadata": {},
   "outputs": [
    {
     "data": {
      "image/png": "[encoded data removed]",
      "text/plain": [
       "<Figure size 800x600 with 1 Axes>"
      ]
     },
     "metadata": {},
     "output_type": "display_data"
    }
   ],
   "source": [
    "plt.figure(figsize=(8,6))\n",
    "\n",
    "plt.plot(total.date, total.ISE, color = 'blue', label = 'ISE')\n",
    "plt.plot(total.date, total.predicted_ISE, color = 'red', label = 'Предсказанный ISE')\n",
    "\n",
    "plt.plot(total.date, total.BOVESPA, color = 'yellow', label = 'BOVESPA')\n",
    "plt.plot(total.date, total.predicted_BOVESPA, color = 'orange', label = 'Предсказанный BOVESPA')\n",
    "\n",
    "plt.plot(total.date, total.EM, color = 'green', label = 'EM')\n",
    "plt.plot(total.date, total.predicted_EM, color = 'purple', label = 'Предсказанный EM')\n",
    "\n",
    "plt.legend(bbox_to_anchor=(1.05, 1), loc='upper left', borderaxespad=0)\n",
    "plt.title('Индексы и их предсказанные значения')\n",
    "plt.show()"
   ]
  },
  {
   "cell_type": "markdown",
   "metadata": {},
   "source": []
  }
 ],
 "metadata": {
  "kernelspec": {
   "display_name": "Python 3",
   "language": "python",
   "name": "python3"
  },
  "language_info": {
   "codemirror_mode": {
    "name": "ipython",
    "version": 3
   },
   "file_extension": ".py",
   "mimetype": "text/x-python",
   "name": "python",
   "nbconvert_exporter": "python",
   "pygments_lexer": "ipython3",
   "version": "3.10.9"
  }
 },
 "nbformat": 4,
 "nbformat_minor": 2
}
